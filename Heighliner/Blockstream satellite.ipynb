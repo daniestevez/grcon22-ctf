{
 "cells": [
  {
   "cell_type": "code",
   "execution_count": 1,
   "id": "0aed6679",
   "metadata": {},
   "outputs": [
    {
     "name": "stderr",
     "output_type": "stream",
     "text": [
      "/home/daniel/.local/lib/python3.10/site-packages/scapy/layers/ipsec.py:471: CryptographyDeprecationWarning: Blowfish has been deprecated\n",
      "  cipher=algorithms.Blowfish,\n",
      "/home/daniel/.local/lib/python3.10/site-packages/scapy/layers/ipsec.py:485: CryptographyDeprecationWarning: CAST5 has been deprecated\n",
      "  cipher=algorithms.CAST5,\n"
     ]
    }
   ],
   "source": [
    "%matplotlib inline\n",
    "import numpy as np\n",
    "import matplotlib.pyplot as plt\n",
    "from satellites import crc  # this requires gr-satellites for CRC calculations\n",
    "import scapy.all\n",
    "from scapy.utils import wrpcap\n",
    "\n",
    "import collections\n",
    "import json\n",
    "import struct\n",
    "import subprocess\n",
    "\n",
    "plt.rcParams['figure.figsize'] = (7, 3.5)\n",
    "plt.rcParams['figure.facecolor'] = 'w'"
   ]
  },
  {
   "cell_type": "markdown",
   "id": "12b9fb88",
   "metadata": {},
   "source": [
    "```\n",
    "$ dvbs2-rx --source file --in-file HEIGHLINER_1266400000Hz_2000000sps_75.0dB_2022_09_05_030938.cfile --samp-rate 2e6 --sym-rate 1e6 --rolloff 0.2 --modcod qpsk3/5 --frame-size normal --pilots on --ldpc-iterations 100 --sink file --out-file blockstream.ts\n",
    "log :info: Starting DVB-S2 Rx\n",
    "vmcircbuf_sysconfig :info: Using gr::vmcircbuf_sysv_shm_factory\n",
    "ldpc_decoder_cb :info: frame = 0, snr = 5.32, trials = 100 (max)\n",
    "bch_decoder_bb :info: frame = 0, BCH decoder too many bit errors (FER = 1)\n",
    "bch_decoder_bb :info: frame = 1, BCH decoder too many bit errors (FER = 1)\n",
    "bbdeheader_bb :warning: Baseband header crc failed.\n",
    "bbdeheader_bb :warning: Baseband header crc failed.\n",
    "bch_decoder_bb :info: frame = 2, BCH decoder too many bit errors (FER = 1)\n",
    "bch_decoder_bb :info: frame = 3, BCH decoder too many bit errors (FER = 1)\n",
    "bbdeheader_bb :warning: Baseband header crc failed.\n",
    "bbdeheader_bb :warning: Baseband header crc failed.\n",
    "bch_decoder_bb :info: frame = 4, BCH decoder too many bit errors (FER = 1)\n",
    "bch_decoder_bb :info: frame = 5, BCH decoder too many bit errors (FER = 1)\n",
    "bbdeheader_bb :warning: Baseband header crc failed.\n",
    "bbdeheader_bb :warning: Baseband header crc failed.\n",
    "bch_decoder_bb :info: frame = 6, BCH decoder too many bit errors (FER = 1)\n",
    "bch_decoder_bb :info: frame = 7, BCH decoder too many bit errors (FER = 1)\n",
    "bbdeheader_bb :warning: Baseband header crc failed.\n",
    "bbdeheader_bb :warning: Baseband header crc failed.\n",
    "bch_decoder_bb :info: frame = 8, BCH decoder too many bit errors (FER = 1)\n",
    "bch_decoder_bb :info: frame = 9, BCH decoder too many bit errors (FER = 1)\n",
    "bbdeheader_bb :warning: Baseband header crc failed.\n",
    "bbdeheader_bb :warning: Baseband header crc failed.\n",
    "bch_decoder_bb :info: frame = 10, BCH decoder too many bit errors (FER = 1)\n",
    "bch_decoder_bb :info: frame = 11, BCH decoder too many bit errors (FER = 1)\n",
    "bbdeheader_bb :warning: Baseband header crc failed.\n",
    "bbdeheader_bb :warning: Baseband header crc failed.\n",
    "bch_decoder_bb :info: frame = 12, BCH decoder too many bit errors (FER = 1)\n",
    "bch_decoder_bb :info: frame = 13, BCH decoder too many bit errors (FER = 1)\n",
    "bbdeheader_bb :warning: Baseband header crc failed.\n",
    "bbdeheader_bb :warning: Baseband header crc failed.\n",
    "bch_decoder_bb :info: frame = 14, BCH decoder too many bit errors (FER = 1)\n",
    "bch_decoder_bb :info: frame = 15, BCH decoder too many bit errors (FER = 1)\n",
    "bbdeheader_bb :warning: Baseband header crc failed.\n",
    "bbdeheader_bb :warning: Baseband header crc failed.\n",
    "bch_decoder_bb :info: frame = 16, BCH decoder too many bit errors (FER = 1)\n",
    "bch_decoder_bb :info: frame = 17, BCH decoder too many bit errors (FER = 1)\n",
    "bbdeheader_bb :warning: Baseband header crc failed.\n",
    "bbdeheader_bb :warning: Baseband header crc failed.\n",
    "bch_decoder_bb :info: frame = 18, BCH decoder too many bit errors (FER = 1)\n",
    "bch_decoder_bb :info: frame = 19, BCH decoder too many bit errors (FER = 1)\n",
    "bbdeheader_bb :warning: Baseband header crc failed.\n",
    "bbdeheader_bb :warning: Baseband header crc failed.\n",
    "bch_decoder_bb :info: frame = 20, BCH decoder too many bit errors (FER = 1)\n",
    "bch_decoder_bb :info: frame = 21, BCH decoder too many bit errors (FER = 1)\n",
    "bbdeheader_bb :warning: Baseband header crc failed.\n",
    "bbdeheader_bb :warning: Baseband header crc failed.\n",
    "bch_decoder_bb :info: frame = 22, BCH decoder too many bit errors (FER = 1)\n",
    "bch_decoder_bb :info: frame = 23, BCH decoder too many bit errors (FER = 1)\n",
    "bbdeheader_bb :warning: Baseband header crc failed.\n",
    "bbdeheader_bb :warning: Baseband header crc failed.\n",
    "bch_decoder_bb :info: frame = 24, BCH decoder too many bit errors (FER = 1)\n",
    "bch_decoder_bb :info: frame = 25, BCH decoder too many bit errors (FER = 1)\n",
    "bbdeheader_bb :warning: Baseband header crc failed.\n",
    "bbdeheader_bb :warning: Baseband header crc failed.\n",
    "bch_decoder_bb :info: frame = 26, BCH decoder too many bit errors (FER = 1)\n",
    "bch_decoder_bb :info: frame = 27, BCH decoder too many bit errors (FER = 1)\n",
    "bbdeheader_bb :warning: Baseband header crc failed.\n",
    "bbdeheader_bb :warning: Baseband header crc failed.\n",
    "bch_decoder_bb :info: frame = 28, BCH decoder too many bit errors (FER = 1)\n",
    "bch_decoder_bb :info: frame = 29, BCH decoder too many bit errors (FER = 1)\n",
    "bbdeheader_bb :warning: Baseband header crc failed.\n",
    "bbdeheader_bb :warning: Baseband header crc failed.\n",
    "bch_decoder_bb :info: frame = 30, BCH decoder too many bit errors (FER = 1)\n",
    "bch_decoder_bb :info: frame = 31, BCH decoder too many bit errors (FER = 1)\n",
    "bbdeheader_bb :warning: Baseband header crc failed.\n",
    "bbdeheader_bb :warning: Baseband header crc failed.\n",
    "ldpc_decoder_cb :info: frame = 32, snr = 4.58, trials = 100 (max)\n",
    "bch_decoder_bb :info: frame = 32, BCH decoder too many bit errors (FER = 1)\n",
    "bch_decoder_bb :info: frame = 33, BCH decoder too many bit errors (FER = 1)\n",
    "bbdeheader_bb :warning: Baseband header crc failed.\n",
    "bbdeheader_bb :warning: Baseband header crc failed.\n",
    "bch_decoder_bb :info: frame = 34, BCH decoder too many bit errors (FER = 1)\n",
    "bch_decoder_bb :info: frame = 35, BCH decoder too many bit errors (FER = 1)\n",
    "bbdeheader_bb :warning: Baseband header crc failed.\n",
    "bbdeheader_bb :warning: Baseband header crc failed.\n",
    "bch_decoder_bb :info: frame = 36, BCH decoder too many bit errors (FER = 1)\n",
    "bch_decoder_bb :info: frame = 37, BCH decoder too many bit errors (FER = 1)\n",
    "bbdeheader_bb :warning: Baseband header crc failed.\n",
    "bbdeheader_bb :warning: Baseband header crc failed.\n",
    "bch_decoder_bb :info: frame = 38, BCH decoder too many bit errors (FER = 1)\n",
    "bch_decoder_bb :info: frame = 39, BCH decoder too many bit errors (FER = 1)\n",
    "bbdeheader_bb :warning: Baseband header crc failed.\n",
    "bbdeheader_bb :warning: Baseband header crc failed.\n",
    "bch_decoder_bb :info: frame = 40, BCH decoder too many bit errors (FER = 1)\n",
    "bch_decoder_bb :info: frame = 41, BCH decoder too many bit errors (FER = 1)\n",
    "bbdeheader_bb :warning: Baseband header crc failed.\n",
    "bbdeheader_bb :warning: Baseband header crc failed.\n",
    "bch_decoder_bb :info: frame = 42, BCH decoder too many bit errors (FER = 1)\n",
    "bch_decoder_bb :info: frame = 43, BCH decoder too many bit errors (FER = 1)\n",
    "bbdeheader_bb :warning: Baseband header crc failed.\n",
    "bbdeheader_bb :warning: Baseband header crc failed.\n",
    "bch_decoder_bb :info: frame = 44, BCH decoder too many bit errors (FER = 1)\n",
    "bch_decoder_bb :info: frame = 45, BCH decoder too many bit errors (FER = 1)\n",
    "bbdeheader_bb :warning: Baseband header crc failed.\n",
    "bbdeheader_bb :warning: Baseband header crc failed.\n",
    "bch_decoder_bb :info: frame = 46, BCH decoder too many bit errors (FER = 1)\n",
    "bch_decoder_bb :info: frame = 47, BCH decoder too many bit errors (FER = 1)\n",
    "bbdeheader_bb :warning: Baseband header crc failed.\n",
    "bbdeheader_bb :warning: Baseband header crc failed.\n",
    "bch_decoder_bb :info: frame = 48, BCH decoder too many bit errors (FER = 1)\n",
    "bch_decoder_bb :info: frame = 49, BCH decoder too many bit errors (FER = 1)\n",
    "bbdeheader_bb :warning: Baseband header crc failed.\n",
    "bbdeheader_bb :warning: Baseband header crc failed.\n",
    "bch_decoder_bb :info: frame = 50, BCH decoder too many bit errors (FER = 1)\n",
    "bch_decoder_bb :info: frame = 51, BCH decoder too many bit errors (FER = 1)\n",
    "bbdeheader_bb :warning: Baseband header crc failed.\n",
    "bbdeheader_bb :warning: Baseband header crc failed.\n",
    "bch_decoder_bb :info: frame = 52, BCH decoder too many bit errors (FER = 1)\n",
    "bch_decoder_bb :info: frame = 53, BCH decoder too many bit errors (FER = 1)\n",
    "bbdeheader_bb :warning: Baseband header crc failed.\n",
    "bbdeheader_bb :warning: Baseband header crc failed.\n",
    "bch_decoder_bb :info: frame = 54, BCH decoder too many bit errors (FER = 1)\n",
    "bch_decoder_bb :info: frame = 55, BCH decoder too many bit errors (FER = 1)\n",
    "bbdeheader_bb :warning: Baseband header crc failed.\n",
    "bbdeheader_bb :warning: Baseband header crc failed.\n",
    "bch_decoder_bb :info: frame = 56, BCH decoder too many bit errors (FER = 1)\n",
    "bbdeheader_bb :warning: Baseband header crc failed.\n",
    "bbdeheader_bb :info: Baseband header resynchronizing.\n",
    "ldpc_decoder_cb :info: frame = 64, snr = 4.90, trials = 7\n",
    "ldpc_decoder_cb :info: frame = 96, snr = 4.64, trials = 7\n",
    "ldpc_decoder_cb :info: frame = 128, snr = 4.69, trials = 8\n",
    "ldpc_decoder_cb :info: frame = 160, snr = 4.56, trials = 8\n",
    "ldpc_decoder_cb :info: frame = 192, snr = 4.53, trials = 8\n",
    "ldpc_decoder_cb :info: frame = 224, snr = 4.51, trials = 8\n",
    "ldpc_decoder_cb :info: frame = 256, snr = 4.55, trials = 8\n",
    "ldpc_decoder_cb :info: frame = 288, snr = 4.43, trials = 9\n",
    "ldpc_decoder_cb :info: frame = 320, snr = 4.52, trials = 8\n",
    "ldpc_decoder_cb :info: frame = 352, snr = 4.62, trials = 7\n",
    "ldpc_decoder_cb :info: frame = 384, snr = 4.60, trials = 7\n",
    "ldpc_decoder_cb :info: frame = 416, snr = 4.60, trials = 7\n",
    "ldpc_decoder_cb :info: frame = 448, snr = 4.54, trials = 9\n",
    "ldpc_decoder_cb :info: frame = 480, snr = 4.43, trials = 8\n",
    "ldpc_decoder_cb :info: frame = 512, snr = 4.57, trials = 8\n",
    "ldpc_decoder_cb :info: frame = 544, snr = 4.43, trials = 8\n",
    "ldpc_decoder_cb :info: frame = 576, snr = 4.50, trials = 8\n",
    "ldpc_decoder_cb :info: frame = 608, snr = 4.56, trials = 8\n",
    "ldpc_decoder_cb :info: frame = 640, snr = 4.44, trials = 8\n",
    "ldpc_decoder_cb :info: frame = 672, snr = 4.44, trials = 8\n",
    "ldpc_decoder_cb :info: frame = 704, snr = 4.57, trials = 7\n",
    "ldpc_decoder_cb :info: frame = 736, snr = 4.59, trials = 7\n",
    "ldpc_decoder_cb :info: frame = 768, snr = 4.58, trials = 8\n",
    "ldpc_decoder_cb :info: frame = 800, snr = 4.62, trials = 7\n",
    "ldpc_decoder_cb :info: frame = 832, snr = 4.57, trials = 7\n",
    "ldpc_decoder_cb :info: frame = 864, snr = 4.62, trials = 8\n",
    "ldpc_decoder_cb :info: frame = 896, snr = 4.49, trials = 8\n",
    "log :info: Stopping DVB-S2 Rx\n",
    "```"
   ]
  },
  {
   "cell_type": "code",
   "execution_count": 2,
   "id": "203229f2",
   "metadata": {},
   "outputs": [
    {
     "data": {
      "text/plain": [
       "(22358, 188)"
      ]
     },
     "execution_count": 2,
     "metadata": {},
     "output_type": "execute_result"
    }
   ],
   "source": [
    "ts = np.fromfile('blockstream.ts', dtype = 'uint8').reshape(-1,188)\n",
    "ts.shape"
   ]
  },
  {
   "cell_type": "code",
   "execution_count": 3,
   "id": "5d00ff9d",
   "metadata": {},
   "outputs": [
    {
     "data": {
      "text/plain": [
       "array([71], dtype=uint8)"
      ]
     },
     "execution_count": 3,
     "metadata": {},
     "output_type": "execute_result"
    }
   ],
   "source": [
    "# sync byte 71 = 0x47\n",
    "np.unique(ts[:,0])"
   ]
  },
  {
   "cell_type": "code",
   "execution_count": 4,
   "id": "35825b25",
   "metadata": {},
   "outputs": [
    {
     "data": {
      "text/plain": [
       "array([0], dtype=uint8)"
      ]
     },
     "execution_count": 4,
     "metadata": {},
     "output_type": "execute_result"
    }
   ],
   "source": [
    "# TEI = 0\n",
    "np.unique(ts[:,1] >> 7)"
   ]
  },
  {
   "cell_type": "code",
   "execution_count": 5,
   "id": "560eebef",
   "metadata": {},
   "outputs": [
    {
     "data": {
      "text/plain": [
       "array([0], dtype=uint8)"
      ]
     },
     "execution_count": 5,
     "metadata": {},
     "output_type": "execute_result"
    }
   ],
   "source": [
    "pusi = (ts[:,1] >> 6) & 1\n",
    "# priority = 0\n",
    "np.unique((ts[:,1] >> 5) & 1)"
   ]
  },
  {
   "cell_type": "code",
   "execution_count": 6,
   "id": "8039c055",
   "metadata": {},
   "outputs": [
    {
     "data": {
      "text/plain": [
       "array([  32, 8191], dtype=uint16)"
      ]
     },
     "execution_count": 6,
     "metadata": {},
     "output_type": "execute_result"
    }
   ],
   "source": [
    "pid = ts[:,1:3].ravel().view('uint16').byteswap() & 0x1fff\n",
    "np.unique(pid)"
   ]
  },
  {
   "cell_type": "code",
   "execution_count": 7,
   "id": "57deed63",
   "metadata": {},
   "outputs": [
    {
     "name": "stdout",
     "output_type": "stream",
     "text": [
      "PID 32 ratio 99.4%\n",
      "PID 8191 ratio 0.6%\n"
     ]
    }
   ],
   "source": [
    "for p in np.unique(pid):\n",
    "    print(f'PID {p} ratio {np.average(pid == p) * 100:.1f}%')"
   ]
  },
  {
   "cell_type": "code",
   "execution_count": 8,
   "id": "ca5a3143",
   "metadata": {},
   "outputs": [
    {
     "data": {
      "text/plain": [
       "array([0], dtype=uint8)"
      ]
     },
     "execution_count": 8,
     "metadata": {},
     "output_type": "execute_result"
    }
   ],
   "source": [
    "# TSC = 0\n",
    "np.unique(ts[:,3] >> 6)"
   ]
  },
  {
   "cell_type": "code",
   "execution_count": 9,
   "id": "232dc2e2",
   "metadata": {},
   "outputs": [
    {
     "data": {
      "text/plain": [
       "array([1], dtype=uint8)"
      ]
     },
     "execution_count": 9,
     "metadata": {},
     "output_type": "execute_result"
    }
   ],
   "source": [
    "adaptation = (ts[:,3] >> 4) & 0x3\n",
    "np.unique(adaptation)"
   ]
  },
  {
   "cell_type": "code",
   "execution_count": 10,
   "id": "90b73c07",
   "metadata": {},
   "outputs": [],
   "source": [
    "continuity = ts[:,3] & 0xf"
   ]
  },
  {
   "cell_type": "code",
   "execution_count": 11,
   "id": "13a188d0",
   "metadata": {},
   "outputs": [
    {
     "name": "stdout",
     "output_type": "stream",
     "text": [
      "PID 32 PUSI values [0 1] adaptation field values [1]\n",
      "PID 8191 PUSI values [0] adaptation field values [1]\n"
     ]
    }
   ],
   "source": [
    "for p in np.unique(pid):\n",
    "    print('PID', p, 'PUSI values', np.unique(pusi[pid == p]),\n",
    "          'adaptation field values', np.unique(adaptation[pid == p]))"
   ]
  },
  {
   "cell_type": "code",
   "execution_count": 12,
   "id": "df6a6baf",
   "metadata": {},
   "outputs": [
    {
     "data": {
      "text/plain": [
       "[<matplotlib.lines.Line2D at 0x7f8c5cfb7e50>]"
      ]
     },
     "execution_count": 12,
     "metadata": {},
     "output_type": "execute_result"
    },
    {
     "data": {
      "image/png": "[encoded data removed]",
      "text/plain": [
       "<Figure size 700x350 with 1 Axes>"
      ]
     },
     "metadata": {},
     "output_type": "display_data"
    }
   ],
   "source": [
    "packet_loss = np.diff(continuity[pid == 32]).astype('int') % 16 - 1\n",
    "plt.plot(packet_loss)"
   ]
  },
  {
   "cell_type": "code",
   "execution_count": 13,
   "id": "e36eb7f0",
   "metadata": {},
   "outputs": [],
   "source": [
    "payloads = []\n",
    "current_payload = None\n",
    "for packet, packet_pusi in zip(ts[pid == 32], pusi[pid == 32]):\n",
    "    if packet_pusi:\n",
    "        pointer_field = packet[4]\n",
    "        if current_payload is not None:\n",
    "            current_payload += bytes(packet[5:][:pointer_field])\n",
    "            payloads.append(current_payload)\n",
    "        current_payload = bytes(packet[5+pointer_field:])\n",
    "    elif current_payload is not None:\n",
    "        current_payload += bytes(packet[4:])"
   ]
  },
  {
   "cell_type": "code",
   "execution_count": 14,
   "id": "9cc7e46d",
   "metadata": {},
   "outputs": [
    {
     "data": {
      "text/plain": [
       "{'0x3e'}"
      ]
     },
     "execution_count": 14,
     "metadata": {},
     "output_type": "execute_result"
    }
   ],
   "source": [
    "# table ID = 0x3e (DSM-CC sections with private data)\n",
    "{hex(p[0]) for p in payloads}"
   ]
  },
  {
   "cell_type": "code",
   "execution_count": 15,
   "id": "76d76dff",
   "metadata": {},
   "outputs": [],
   "source": [
    "# check that if there are bytes after the section, they are all 0xff bytes\n",
    "section_lengths = [struct.unpack('>H', p[1:3])[0] & 0xfff for p in payloads]\n",
    "for p, length in zip(payloads, section_lengths):\n",
    "    padding_length = len(p) - (3 + length)\n",
    "    assert p[3 + length:] == b'\\xff' * padding_length"
   ]
  },
  {
   "cell_type": "code",
   "execution_count": 16,
   "id": "469089de",
   "metadata": {},
   "outputs": [],
   "source": [
    "# check section CRC's\n",
    "crc32_mpeg = crc(32, 0x4C11DB7, 0xFFFFFFFF, 0x0, False, False)\n",
    "for p, length in zip(payloads, section_lengths):\n",
    "    res = crc32_mpeg.compute(list(p[:3+length-4]))\n",
    "    assert res == struct.unpack('>I', p[3+length-4:][:4])[0]"
   ]
  },
  {
   "cell_type": "code",
   "execution_count": 17,
   "id": "6f072302",
   "metadata": {},
   "outputs": [
    {
     "data": {
      "image/png": "[encoded data removed]",
      "text/plain": [
       "<Figure size 700x350 with 1 Axes>"
      ]
     },
     "metadata": {},
     "output_type": "display_data"
    }
   ],
   "source": [
    "padding_lengths = np.array([len(p) for p in payloads]) - np.array(section_lengths) - 3\n",
    "plt.plot(padding_lengths, '.-', linewidth=0.5)\n",
    "plt.title('Number of padding bytes at the end of MPE datagram sections')\n",
    "plt.ylabel('Number of bytes')\n",
    "plt.xlabel('Datagram section number');"
   ]
  },
  {
   "cell_type": "code",
   "execution_count": 18,
   "id": "4915525c",
   "metadata": {},
   "outputs": [
    {
     "data": {
      "image/png": "[encoded data removed]",
      "text/plain": [
       "<Figure size 700x350 with 1 Axes>"
      ]
     },
     "metadata": {},
     "output_type": "display_data"
    }
   ],
   "source": [
    "plt.hist(padding_lengths, bins=10)\n",
    "plt.semilogy()\n",
    "plt.title('Number of padding bytes at the end of MPE datagram sections (histogram)')\n",
    "plt.xlabel('Number of padding bytes')\n",
    "plt.ylabel('Numbr of datagram sections');"
   ]
  },
  {
   "cell_type": "code",
   "execution_count": 19,
   "id": "9d1af034",
   "metadata": {},
   "outputs": [
    {
     "data": {
      "text/plain": [
       "0.014587674903245014"
      ]
     },
     "execution_count": 19,
     "metadata": {},
     "output_type": "execute_result"
    }
   ],
   "source": [
    "np.average(padding_lengths != 0)"
   ]
  },
  {
   "cell_type": "code",
   "execution_count": 20,
   "id": "1266ba45",
   "metadata": {},
   "outputs": [
    {
     "data": {
      "text/plain": [
       "{1}"
      ]
     },
     "execution_count": 20,
     "metadata": {},
     "output_type": "execute_result"
    }
   ],
   "source": [
    "section_syntax_indicator = [p[1] >> 7 for p in payloads]\n",
    "set(section_syntax_indicator)"
   ]
  },
  {
   "cell_type": "code",
   "execution_count": 21,
   "id": "60e6aa24",
   "metadata": {},
   "outputs": [
    {
     "data": {
      "text/plain": [
       "{0}"
      ]
     },
     "execution_count": 21,
     "metadata": {},
     "output_type": "execute_result"
    }
   ],
   "source": [
    "private_indicator = [(p[1] >> 6) & 1 for p in payloads]\n",
    "set(private_indicator)"
   ]
  },
  {
   "cell_type": "code",
   "execution_count": 22,
   "id": "1a930a73",
   "metadata": {},
   "outputs": [
    {
     "data": {
      "text/plain": [
       "{'01:00:5e:00:00:02'}"
      ]
     },
     "execution_count": 22,
     "metadata": {},
     "output_type": "execute_result"
    }
   ],
   "source": [
    "def get_mac_address(payload):\n",
    "    return bytes([payload[11], payload[10], payload[9], payload[8],\n",
    "                  payload[4], payload[3]])\n",
    "macs = [get_mac_address(p) for p in payloads]\n",
    "{':'.join([f'{a:02x}' for a in m]) for m in set(macs)}"
   ]
  },
  {
   "cell_type": "code",
   "execution_count": 23,
   "id": "92f83b54",
   "metadata": {},
   "outputs": [
    {
     "data": {
      "text/plain": [
       "{0}"
      ]
     },
     "execution_count": 23,
     "metadata": {},
     "output_type": "execute_result"
    }
   ],
   "source": [
    "payload_scrambling_control = [(p[5] >> 4) & 0x3 for p in payloads]\n",
    "set(payload_scrambling_control)"
   ]
  },
  {
   "cell_type": "code",
   "execution_count": 24,
   "id": "ef784c6e",
   "metadata": {},
   "outputs": [
    {
     "data": {
      "text/plain": [
       "{0}"
      ]
     },
     "execution_count": 24,
     "metadata": {},
     "output_type": "execute_result"
    }
   ],
   "source": [
    "address_scrambling_control = [(p[5] >> 2) & 0x3 for p in payloads]\n",
    "set(address_scrambling_control)"
   ]
  },
  {
   "cell_type": "code",
   "execution_count": 25,
   "id": "9e7bd61a",
   "metadata": {},
   "outputs": [
    {
     "data": {
      "text/plain": [
       "{0}"
      ]
     },
     "execution_count": 25,
     "metadata": {},
     "output_type": "execute_result"
    }
   ],
   "source": [
    "llc_snap_flag = [(p[5] >> 1) & 1 for p in payloads]\n",
    "set(llc_snap_flag)"
   ]
  },
  {
   "cell_type": "code",
   "execution_count": 26,
   "id": "a58ef920",
   "metadata": {},
   "outputs": [
    {
     "data": {
      "text/plain": [
       "{1}"
      ]
     },
     "execution_count": 26,
     "metadata": {},
     "output_type": "execute_result"
    }
   ],
   "source": [
    "current_next_indicator = [p[5] & 1 for p in payloads]\n",
    "set(current_next_indicator)"
   ]
  },
  {
   "cell_type": "code",
   "execution_count": 27,
   "id": "ff13c58a",
   "metadata": {},
   "outputs": [
    {
     "data": {
      "text/plain": [
       "{0}"
      ]
     },
     "execution_count": 27,
     "metadata": {},
     "output_type": "execute_result"
    }
   ],
   "source": [
    "section_number = [p[6] for p in payloads]\n",
    "set(section_number)"
   ]
  },
  {
   "cell_type": "code",
   "execution_count": 28,
   "id": "176af9af",
   "metadata": {},
   "outputs": [
    {
     "data": {
      "text/plain": [
       "{0}"
      ]
     },
     "execution_count": 28,
     "metadata": {},
     "output_type": "execute_result"
    }
   ],
   "source": [
    "last_section_number = [p[6] for p in payloads]\n",
    "set(last_section_number)"
   ]
  },
  {
   "cell_type": "code",
   "execution_count": 29,
   "id": "97cdbf13",
   "metadata": {},
   "outputs": [
    {
     "data": {
      "text/plain": [
       "{4}"
      ]
     },
     "execution_count": 29,
     "metadata": {},
     "output_type": "execute_result"
    }
   ],
   "source": [
    "ip_version = [p[12] >> 4 for p in payloads]\n",
    "set(ip_version)"
   ]
  },
  {
   "cell_type": "code",
   "execution_count": 30,
   "id": "4034f1c1",
   "metadata": {},
   "outputs": [],
   "source": [
    "ip_total_length = [struct.unpack('>H', p[14:16])[0] for p in payloads]\n",
    "ip_packets = [scapy.all.IP(p[12:][:length]) for p, length in zip(payloads, ip_total_length)]\n",
    "wrpcap('ip_packets.pcap', ip_packets)"
   ]
  },
  {
   "cell_type": "code",
   "execution_count": 31,
   "id": "c8e671fd",
   "metadata": {},
   "outputs": [
    {
     "data": {
      "text/plain": [
       "{0}"
      ]
     },
     "execution_count": 31,
     "metadata": {},
     "output_type": "execute_result"
    }
   ],
   "source": [
    "stuffing = [p[12+ip_length:3+length-4]\n",
    "            for p, ip_length,length in zip(payloads, ip_total_length, section_lengths)]\n",
    "{len(s) for s in stuffing}"
   ]
  },
  {
   "cell_type": "code",
   "execution_count": 32,
   "id": "1b6e4f2f",
   "metadata": {},
   "outputs": [
    {
     "data": {
      "text/plain": [
       "{('172.16.235.1', '239.0.0.2', 17)}"
      ]
     },
     "execution_count": 32,
     "metadata": {},
     "output_type": "execute_result"
    }
   ],
   "source": [
    "{(p.src, p.dst, p.proto) for p in ip_packets}"
   ]
  },
  {
   "cell_type": "code",
   "execution_count": 33,
   "id": "23ff3335",
   "metadata": {},
   "outputs": [
    {
     "data": {
      "text/plain": [
       "{(4433, 4433), (4434, 4434)}"
      ]
     },
     "execution_count": 33,
     "metadata": {},
     "output_type": "execute_result"
    }
   ],
   "source": [
    "{(p.sport, p.dport) for p in ip_packets}"
   ]
  },
  {
   "cell_type": "code",
   "execution_count": 34,
   "id": "d62672f6",
   "metadata": {},
   "outputs": [],
   "source": [
    "blockstream_api_packets = [p for p in ip_packets if p.dport == 4433]\n",
    "# check type bit\n",
    "for p in blockstream_api_packets:\n",
    "    assert p['Raw'].load[0] & 1"
   ]
  },
  {
   "cell_type": "code",
   "execution_count": 35,
   "id": "bc54895c",
   "metadata": {},
   "outputs": [],
   "source": [
    "by_channel = {}\n",
    "for p in blockstream_api_packets:\n",
    "    data = p['Raw'].load\n",
    "    channel = data[1]\n",
    "    by_channel.setdefault(channel, []).append(data)"
   ]
  },
  {
   "cell_type": "code",
   "execution_count": 36,
   "id": "d996b7a2",
   "metadata": {},
   "outputs": [
    {
     "data": {
      "text/plain": [
       "dict_keys([4, 5, 1])"
      ]
     },
     "execution_count": 36,
     "metadata": {},
     "output_type": "execute_result"
    }
   ],
   "source": [
    "by_channel.keys()"
   ]
  },
  {
   "cell_type": "code",
   "execution_count": 37,
   "id": "b3665ab2",
   "metadata": {},
   "outputs": [],
   "source": [
    "by_channel_seq = {}\n",
    "for k, v in by_channel.items():\n",
    "    by_channel_seq[k] = {}\n",
    "    for p in v:\n",
    "        seq = struct.unpack('>I', p[4:8])[0]\n",
    "        by_channel_seq[k].setdefault(seq, []).append(p)"
   ]
  },
  {
   "cell_type": "code",
   "execution_count": 38,
   "id": "e6f29986",
   "metadata": {},
   "outputs": [
    {
     "data": {
      "text/plain": [
       "dict_keys([10185])"
      ]
     },
     "execution_count": 38,
     "metadata": {},
     "output_type": "execute_result"
    }
   ],
   "source": [
    "by_channel_seq[1].keys()"
   ]
  },
  {
   "cell_type": "code",
   "execution_count": 39,
   "id": "f2bae172",
   "metadata": {},
   "outputs": [
    {
     "data": {
      "text/plain": [
       "dict_keys([15413])"
      ]
     },
     "execution_count": 39,
     "metadata": {},
     "output_type": "execute_result"
    }
   ],
   "source": [
    "by_channel_seq[4].keys()"
   ]
  },
  {
   "cell_type": "code",
   "execution_count": 40,
   "id": "eb32daa9",
   "metadata": {},
   "outputs": [
    {
     "data": {
      "text/plain": [
       "dict_keys([1735])"
      ]
     },
     "execution_count": 40,
     "metadata": {},
     "output_type": "execute_result"
    }
   ],
   "source": [
    "by_channel_seq[5].keys()"
   ]
  },
  {
   "cell_type": "code",
   "execution_count": 41,
   "id": "c0e3057b",
   "metadata": {},
   "outputs": [
    {
     "data": {
      "text/plain": [
       "[175, 176, 177, 178, 179, 180, 181, 182, 183, 184]"
      ]
     },
     "execution_count": 41,
     "metadata": {},
     "output_type": "execute_result"
    }
   ],
   "source": [
    "[struct.unpack('>H', a[2:4])[0] for a in by_channel_seq[4][15413]]"
   ]
  },
  {
   "cell_type": "code",
   "execution_count": 42,
   "id": "2deabc20",
   "metadata": {},
   "outputs": [
    {
     "data": {
      "text/plain": [
       "b'\\x81\\x04\\x00\\xaf\\x00\\x00<5\\x00\\x05\\x00\\x00\\x02\\xd8\\x00\\x00202209050700.gsp\\x00\\x00\\x00\\x00\\x00\\x00\\x00\\x00\\x00\\x00\\x00\\x00\\x00\\x00\\x00\\x00\\x00\\x00\\x00\\x00\\x00\\x00\\x00\\x00\\x00\\x00\\x00\\x00\\x00\\x00\\x00\\x00\\x00\\x00\\x00\\x00\\x00\\x00\\x00\\x00\\x00\\x00\\x00\\x00\\x00\\x00\\x00\\x00\\x00\\x00\\x00\\x00\\x00\\x00\\x00\\x00\\x00\\x00\\x00\\x00\\x00\\x00\\x00\\x00\\x00\\x00\\x00\\x00\\x00\\x00\\x00\\x00\\x00\\x00\\x00\\x00\\x00\\x00\\x00\\x00\\x00\\x00\\x00\\x00\\x00\\x00\\x00\\x00\\x00\\x00\\x00\\x00\\x00\\x00\\x00\\x00\\x00\\x00\\x00\\x00\\x00\\x00\\x00\\x00\\x00\\x00\\x00\\x00\\x00\\x00\\x00\\x00\\x00\\x00\\x00\\x00\\x00\\x00\\x00\\x00\\x00\\x00\\x00\\x00\\x00\\x00\\x00\\x00\\x00\\x00\\x00\\x00\\x00\\x00\\x00\\x00\\x00\\x00\\x00\\x00\\x00\\x00\\x00\\x00\\x00\\x00\\x00\\x00\\x00\\x00\\x00\\x00\\x00\\x00\\x00\\x00\\x00\\x00\\x00\\x00\\x00\\x00\\x00\\x00\\x00\\x00\\x00\\x00\\x00\\x00\\x00\\x00\\x00\\x00\\x00\\x00\\x00\\x00\\x00\\x00\\x00\\x00\\x00\\x00\\x00\\x00\\x00\\x00\\x00\\x00\\x00\\x00\\x00\\x00\\x00\\x00\\x00\\x00\\x00\\x00\\x00\\x00\\x00\\x00\\x00\\x00\\x00\\x00\\x00\\x00\\x00\\x00\\x00\\x00\\x00\\x00\\x00\\x00\\x00\\x00\\x00\\x00\\x00\\x00\\x00\\x00\\x00\\x00\\x00\\x00\\x00\\x00\\x00\\x00\\x00\\x00\\x00\\x00\\x00\\x00,\\xd0p\\x1dGSP\\x01\\xfd\\x01\\xb0\\x01\\x00\\xd4&\\x815\\xc5f>\\xd7\\xfb\\xab\\xc8\\xfb\\xfa\\x0c.P\\xf0X\\x8f-I\\xf5\\xd5`\\x04^%\\xb8%\\xd88\\xfa\\x0e\\x82D\\xec!;,\\x03\\xda!!\\xe7k\\xc7\\x89\\xcc[\\xc2.R\\xa9CT\\xec\\x17\\xa8V&\\x9d\\xde\\xef\\xa6\\xccJZ,[\\xac\\x80!\\x7f\\x8d\\xa1\\xf9/QN\\x89\\xc9\\x9c\\xc7\\x17}\\xbc\\x98>\\x14w\\xfb\\x0e\\xc8*\\x1b\\xc3\\x0e\\xaf\\xd1\\xd4\\xf7\\xa1H\\x00\\xfc\\xaf\\x81\\\\\\x13\\x06\\xe7\\xc0-\\xe6\\xf7&\\x16u\\xeb\\x87\\xaef\\xf8\\x82\\x98W\\xf3W\\x8fH\\xa536?!4\\xb9\\x13\\xa0\\x97\\x10$\\xdb\\x8d\\x94?\\xae\\x07c\\x9c9o>`4O-\\xf0 \\xb2go\\xb6\\xe3\\x02\\xe7\\xaf\\xdf`\\r\\xf7xx\\x96\\x17\\x1f\\'F%C\\x96F\\xba\\x1cD\\xf8d\\xdb\\xdf\\x8e\\xb0u\\\\\\x13W\\x04\\xe1fC\\x80\\x0f\\xc8!\\xcd\\xb7>\\x9e\\xe5\\x0bL\\xe3C\\xbd\\x13\\x95\\xb4\\xa7;\\xe4e|&\\xb1\\xade\\xa7B\\xf6\\xb9tW\\xa8\\xdc|\\x8d\\x18\\xd9\\xa1K\\xcdX\\xa4\\x17\\x92\\x9cb\\xe0\\x8f\\xba\\x83k\\x18g5\\xd7\\xac\\x00\\x00o\\xe2\\x8c\\n\\xb6\\xf1\\xb3r\\xc1\\xa6\\xa2F\\xaec\\xf7O\\x93\\x1e\\x83e\\xe1Z\\x08\\x9ch\\xd6\\x19\\x00\\x00\\x00\\x00\\x00\\x08e\\xc2\\x00\\x05\\xd9\\x00\\x00\\x0353\\xe2\\xdbc\\x11\\xc1\\xd4\\x17\\xd4\\x12y\\xc0g\\xd8q:\\xd8\\xa7\\xd5w\\xa0\\xd9\\x1ee\\xdf/j\\x82\\xc5\\xb8b\\x03\\x9e\\xdc\\x94\\x98|\\x8f:\\xdc(\\xda\\xb4U\\xef\\xc0\\r\\xea\\x87`\\x89\\xa1 \\xf5s\\xbd\\x0b\\x03\\xc4\\r\\x9d?\\xb1\\xe1\\x03\\xa7\\xf1\\x86D\\xe77\\xb1\\t\\xd2\\xce\\xac\\x9d\\x82\\xa1j3\\x9b\\xb4\\xf2\\x7f\\x05\\x01\\xaf\\xdchm\\x98\\xec\\x95\\xdb\\x8b>\\x03B_\\xa3\\xac{\\xf2\\x1d\\x11\\x19B\\xa4\\r\\xd4F\\x1b\\xc2\\x0c7-\\x8c\\x90V\\x1fA]\\x1ac*\\xea\\xd8\\x7f\\x9d\\x8a\\x01\\x02\\\\\\xcf\\xa6\\x84\\xc9\\xa8\\x848&db\\xfe\\xdd\\xc4\\x1fkKqZ\\xb8\\xf7\\x12\\x92\\xfb8\\x18\\x9f\\x00\\xf6v@\\xd1mRh\\xa7\\x1ax\\xd3\\xcf\\xa1L\\x89\\x99\\x06t\\xef\\xa0{\\x89\\xc0\\xa9,\\xfa\\'&\\xa9{\\x9b\\xf1\\xa5K\\x83\\x02o\\xe2\\x8c\\n\\xb6\\xf1\\xb3r\\xc1\\xa6\\xa2F\\xaec\\xf7O\\x93\\x1e\\x83e\\xe1Z\\x08\\x9ch\\xd6\\x19\\x00\\x00\\x00\\x00\\x00\\x08e\\xc2\\x00\\x05\\xd9\\x00\\x00c\\x15\\x99\\xad\\x01\\x00\\x00\"\\x00\\x00\\x00\\x00\\x00\\x00\\x03\\xe8\\x00\\x00\\x00\\x00\\x00\\x00\\x03{\\x00\\x00\\x00\\x00\\x86\\x1cF\\x80\\x8a\\x01\\x02\\xb1G\\x0e\\x98w\\xa3\\xb5\\x16\\xb1]\\xb0\\xb7Js\\xc5#\\x18\\x0c\\xfaZ\\x19\\x0e\\x9f@_c~\\xdcb2\\xcd\"E>\\xfe\\xa59\\x0b\\xb87T\\xe1B\\t\\xff\\xae*I\\xf7\\x98\\xc5B\\x1f\\xcb\\xe8\\xd7\\xa5o\\x94E\\xfe\\xe4\\xbe\\x8eo\\xe2\\x8c\\n\\xb6\\xf1\\xb3r\\xc1\\xa6\\xa2F\\xaec\\xf7O\\x93\\x1e\\x83e\\xe1Z\\x08\\x9ch\\xd6\\x19\\x00\\x00\\x00\\x00\\x00\\x08e\\xc2\\x00\\x05\\xd9\\x00\\x00c\\x13\\xdd\\xd7\\x01\\x01\\x00(\\x00\\x00\\x00\\x00\\x00\\x00\\x00\\x00\\x00\\x00#(\\x00\\x00\\x00\\xdc\\x00\\x00\\x00\\x02\\x18q\\x1a\\x00\\xfd\\x01\\xb0\\x01\\x00=l\\xd0\\n\\xd5G\\xc3\\xb1?\\\\\\x8b\\xaf\\xf3\\x88\\x7f-\\x8c.\\x1417\\xcf&eO\\xbd\\xe9\\xc4\\xbe\\xcd\\xc4\\x89yw\\xe6\\xfaZ\\x88B\\x0f\\x9f\\x8f\\x98\\x18\\xe8\\x07oK\\x8d\\xeaZR\\xd7(YUq\\xc2)\\xba\\xd5\\x98P\\x91\\x90\\xffQ\\x9f\\tD\\xb8\\x8d.l\\x07\\x1cC\\xe5\"a\\x16as:L\\x8d\\xe0\\xda\\xb9+\\xd3\\xe6\\xf2\\xdcs\\x8d\\x1fD&\\xd7\\x97Y\\x9f\\x1f\\xdd\\xca\\xd6\\xea\\xb6\\x1d\\xe8\\xa6\\x9a\\xf6\\xd5\\x89\\x9e%R\\x18\\xbfl\\xd6\\xf7\\xc89h\\x80\\xd1\\xe8\\x96GX\\xd6u\\x08\\xc9\\x81O^\\x8a\\xbe\\xdfNY\\x1e\\xc2c\\xb9\\x00o\\xd2`\\xd3\\x08\\xf5\\x17n\\t\\x9b\\\\%\\x15\\xb2^6\\xdbD\\xaf\\x9de\\x0b\\xa5\\x12\\xb0\\x1d\\x14\\xf1\\xe3\\xa25\\x9e\\x8e\\x1d\\xb9\\x12\\xb0<\\xa6\\xee /\\xd0P\\xac\\xd6\\xa7\\x11\\xf3\\xf1\\x9f\\x9dZ\\xbf\\xc4@\\xd1\\xca\\xa3\\x97\\x02;\\x0f\\x16@\\xd1\\xa0;EZ5&F/}\\xf6\\xbdK5qp\\x9b$\\x88\\x84n\\x92?/\\xcd\\xbexXE\\x91,\\xe71\\x16W?f\\x1f\\xc5)-\\x00\\x00o\\xe2\\x8c\\n\\xb6\\xf1\\xb3r\\xc1\\xa6\\xa2F\\xaec\\xf7O\\x93\\x1e\\x83e\\xe1Z\\x08\\x9ch\\xd6\\x19\\x00\\x00\\x00\\x00\\x00\\x08h\\xfe\\x00\\x07\\x80\\x00\\x00\\x02\\xf3\\x06\\x9a4*\\xe2\\x88:o)\\xe2u\\xf0o(\\xa5jn\\xa2\\xe2\\xd9oX\\x88\\xa3&dD\\xdc\\xf5B\\xb6\\x03\\xc2\\xab\\xfa\\x93\\xea\\xce\\xc0G!\\xc0\\x19dE\\x84BJ\\xab+\\xa4\\xdf\\xf3\\xac\\x9b\\xda\\xb4\\xe9\\xc9p\\x07I\\x1d\\xda\\x02 \\xe0\\xcas~\\xde\\xb3\\x86\\xe5\\xa4q7\\xc0)\\x14\\t\\xd628\\xa0\\x9an\\xf1\\x10i\\x1e\\xd2\\nAJY\\x16\\x03\\xb4\\x86l@T\\x90\\xd4\\xaa\\x80o\\x0c*\\xd1Y\\x9d\\xf5\\xed\\x83z\\xba\\x85\\x9eF\\x1eDA\\xe9\\n\\xa0\\xa4\\x03\\xb8\\x8a\\x01\\x02\\x8d\\xab\\xea\\rSh\\xfc\\xdf\\xf5`\\xdb \\x8dB\\xb2\\xc0\\xc6\\x88\\xf4.0\\x1d\\xce\\x9c`\\x18\\x92\\xf7\\xfe!\\x93=\\x1bfbC\\xaf\\xf8\\x916\\xb3'"
      ]
     },
     "execution_count": 42,
     "metadata": {},
     "output_type": "execute_result"
    }
   ],
   "source": [
    "by_channel_seq[4][15413][0]"
   ]
  },
  {
   "cell_type": "code",
   "execution_count": 43,
   "id": "2827009c",
   "metadata": {},
   "outputs": [
    {
     "data": {
      "text/plain": [
       "[3237, 3238, 3239, 3240, 3241, 3242, 3243, 3244, 3245, 3246]"
      ]
     },
     "execution_count": 43,
     "metadata": {},
     "output_type": "execute_result"
    }
   ],
   "source": [
    "[struct.unpack('>H', a[2:4])[0] for a in by_channel_seq[5][1735]]"
   ]
  },
  {
   "cell_type": "code",
   "execution_count": 44,
   "id": "6383d685",
   "metadata": {},
   "outputs": [
    {
     "data": {
      "text/plain": [
       "{10185: [b\"\\x01\\x01\\x00\\x00\\x00\\x00'\\xc9flag{holder watchmen stilgar}\"]}"
      ]
     },
     "execution_count": 44,
     "metadata": {},
     "output_type": "execute_result"
    }
   ],
   "source": [
    "by_channel_seq[1]"
   ]
  },
  {
   "cell_type": "markdown",
   "id": "89bf6509",
   "metadata": {},
   "source": [
    "## bitcoind"
   ]
  },
  {
   "cell_type": "code",
   "execution_count": 45,
   "id": "d3e08806",
   "metadata": {},
   "outputs": [],
   "source": [
    "def descramble_bitcoinudp(packet):\n",
    "    packet = np.frombuffer(packet, 'uint8').copy()\n",
    "    if packet.size % 8 != 0:\n",
    "        packet = np.concatenate((packet, np.zeros(8 - (packet.size % 8), 'uint8')))\n",
    "    packet = packet.reshape(-1, 8)\n",
    "    packet[2:] ^= packet[0]\n",
    "    return bytes(packet.ravel())\n",
    "\n",
    "bitcoind_packets = [descramble_bitcoinudp(p['Raw'].load) for p in ip_packets if p.dport == 4434]"
   ]
  },
  {
   "cell_type": "code",
   "execution_count": 46,
   "id": "769331a1",
   "metadata": {},
   "outputs": [],
   "source": [
    "message_types = ['syn', 'keepalive', 'disconnect', 'block_header_and_txids', 'block_contents',\n",
    "                 'ping', 'pong', 'tx_contents']"
   ]
  },
  {
   "cell_type": "code",
   "execution_count": 47,
   "id": "1fea4f6d",
   "metadata": {},
   "outputs": [
    {
     "data": {
      "text/plain": [
       "Counter({'block_contents': 3171,\n",
       "         'block_header_and_txids': 101,\n",
       "         'tx_contents': 66})"
      ]
     },
     "execution_count": 47,
     "metadata": {},
     "output_type": "execute_result"
    }
   ],
   "source": [
    "types = [message_types[p[16] & 0x1f] for p in bitcoind_packets]\n",
    "collections.Counter(types)"
   ]
  },
  {
   "cell_type": "code",
   "execution_count": 48,
   "id": "e64a122d",
   "metadata": {},
   "outputs": [],
   "source": [
    "by_type = {}\n",
    "for t, p in zip(types, bitcoind_packets):\n",
    "    by_type.setdefault(t, []).append(p)"
   ]
  },
  {
   "cell_type": "code",
   "execution_count": 49,
   "id": "7c8de4f1",
   "metadata": {},
   "outputs": [
    {
     "data": {
      "text/plain": [
       "Counter({1: 58, 6: 1, 2: 1})"
      ]
     },
     "execution_count": 49,
     "metadata": {},
     "output_type": "execute_result"
    }
   ],
   "source": [
    "transaction_messages = {}\n",
    "for tx in by_type['tx_contents']:\n",
    "    tx = tx[17:]  # skip message header\n",
    "    blk_hash = struct.unpack('<Q', tx[:8])[0]\n",
    "    total_len = struct.unpack('<I', tx[8:12])[0]\n",
    "    chunk_id = struct.unpack('<I', tx[12:15] + b'\\x00')[0]\n",
    "    transaction_messages.setdefault(blk_hash, []).append((chunk_id, total_len, tx))\n",
    "\n",
    "collections.Counter([len(tx) for tx in transaction_messages.values()])"
   ]
  },
  {
   "cell_type": "code",
   "execution_count": 50,
   "id": "33bd1581",
   "metadata": {},
   "outputs": [
    {
     "data": {
      "text/plain": [
       "False"
      ]
     },
     "execution_count": 50,
     "metadata": {},
     "output_type": "execute_result"
    }
   ],
   "source": [
    "def defragment_transaction(tx_chunks):\n",
    "    chunks = sorted(tx_chunks, key=lambda x: x[0])\n",
    "    numbers = [c[0] for c in chunks]\n",
    "    if numbers != list(range(len(numbers))):\n",
    "        # some chunks are missing\n",
    "        return None\n",
    "    data = b''.join([c[2][15:] for c in chunks])\n",
    "    length = chunks[0][1]\n",
    "    if len(data) < length:\n",
    "        # final chunks are missing\n",
    "        return None\n",
    "    left = data[:length]\n",
    "    right = data[length:]\n",
    "    return (left, right)\n",
    "\n",
    "transactions_defrag = [defragment_transaction(t) for t in transaction_messages.values()]\n",
    "\n",
    "# check if some transactions failed to be defragged\n",
    "None in transactions_defrag"
   ]
  },
  {
   "cell_type": "code",
   "execution_count": 51,
   "id": "2204e40b",
   "metadata": {},
   "outputs": [
    {
     "data": {
      "text/plain": [
       "'[5, 0, 0, 0, 0, 5, 2, 4, 0, 5, 0, 5, 7, 4, 0, 5, 0, 4, 1, 3, 3, 1, 3, 2, 5, 6, 3, 2, 0, 0, 3, 0, 1, 7, 7, 3, 3, 3, 2, 6, 2, 6, 1, 6, 4, 2, 3, 4, 1, 6, 1, 6, 0, 0, 7, 4, 4, 0, 1, 4]'"
      ]
     },
     "execution_count": 51,
     "metadata": {},
     "output_type": "execute_result"
    }
   ],
   "source": [
    "excess_lengths = [len(tx[1]) for tx in transactions_defrag]\n",
    "str(excess_lengths)"
   ]
  },
  {
   "cell_type": "code",
   "execution_count": 52,
   "id": "f04549ff",
   "metadata": {},
   "outputs": [
    {
     "data": {
      "text/plain": [
       "Counter({1: 60})"
      ]
     },
     "execution_count": 52,
     "metadata": {},
     "output_type": "execute_result"
    }
   ],
   "source": [
    "codec_versions = collections.Counter(t[0][0] for t in transactions_defrag)\n",
    "codec_versions"
   ]
  },
  {
   "cell_type": "code",
   "execution_count": 53,
   "id": "b5a6a386",
   "metadata": {},
   "outputs": [],
   "source": [
    "def decompress_transaction(tx):\n",
    "    codec_version = tx[0]\n",
    "    res = subprocess.run(['./decompress_transaction', str(codec_version)],\n",
    "                         input=tx[1:].hex(), encoding='ascii', capture_output=True)\n",
    "    if res.returncode != 0:\n",
    "        raise RuntimeError('decompress_transaction failed', res)\n",
    "    return bytes().fromhex(res.stderr.split('\\n')[-2])"
   ]
  },
  {
   "cell_type": "code",
   "execution_count": 54,
   "id": "f17f2de9",
   "metadata": {},
   "outputs": [],
   "source": [
    "decompressed = [decompress_transaction(tx[0]) for tx in transactions_defrag]"
   ]
  },
  {
   "cell_type": "code",
   "execution_count": 55,
   "id": "0b482fc7",
   "metadata": {},
   "outputs": [],
   "source": [
    "BITCOIN_TX = '/home/daniel/bitcoinsatellite/src/bitcoin-tx'\n",
    "def decode_tx(tx):\n",
    "    res = subprocess.run([BITCOIN_TX, '-json', tx.hex()],\n",
    "                         capture_output=True)\n",
    "    if res.returncode != 0:\n",
    "        raise RuntimeError('bitcoin-tx failed')\n",
    "    return json.loads(res.stdout)"
   ]
  },
  {
   "cell_type": "code",
   "execution_count": 56,
   "id": "9ceedbc2",
   "metadata": {},
   "outputs": [],
   "source": [
    "tx_decodes = [decode_tx(tx) for tx in decompressed]\n",
    "txids = [tx['txid'] for tx in tx_decodes]"
   ]
  },
  {
   "cell_type": "code",
   "execution_count": 57,
   "id": "4beea5f2",
   "metadata": {},
   "outputs": [
    {
     "data": {
      "text/plain": [
       "'010335c8cd50eeaaf55042426eb1669425167af300342ad0496e0c309f5254b56ac5130860f531396979a357f15904be10ec1acf72bb359ca90a7cb9f2df4999beff04aabc12d975e08ed7739c96df9fee71bbce97498bd517787fd97b851c03f06037ee1c041eeb4a77757e252d281bcabc163cdc52d76d2be5547902214d84a9e3bb822904f6349bc79dbec17997c7118e44266b9fa8fec7f881270120ccc1f192df48568ae82331c9b16660e8d0900ac15d'"
      ]
     },
     "execution_count": 57,
     "metadata": {},
     "output_type": "execute_result"
    }
   ],
   "source": [
    "transactions_defrag[0][0].hex()"
   ]
  },
  {
   "cell_type": "code",
   "execution_count": 58,
   "id": "a2816902",
   "metadata": {},
   "outputs": [
    {
     "data": {
      "text/plain": [
       "'0100000001c8cd50eeaaf55042426eb1669425167af300342ad0496e0c309f5254b56ac513010000006b483045022100f531396979a357f15904be10ec1acf72bb359ca90a7cb9f2df4999beff04aabc022012d975e08ed7739c96df9fee71bbce97498bd517787fd97b851c03f06037ee1c012103041eeb4a77757e252d281bcabc163cdc52d76d2be5547902214d84a9e3bb8229ffffffff021009050000000000160014f6349bc79dbec17997c7118e44266b9fa8fec7f8b5030000000000001976a91420ccc1f192df48568ae82331c9b16660e8d0900a88ac00000000'"
      ]
     },
     "execution_count": 58,
     "metadata": {},
     "output_type": "execute_result"
    }
   ],
   "source": [
    "decompressed[0].hex()"
   ]
  },
  {
   "cell_type": "code",
   "execution_count": 59,
   "id": "f1d35f80",
   "metadata": {},
   "outputs": [
    {
     "data": {
      "text/plain": [
       "{'txid': '9a1bb9abf0b735e8ccffc823abea56b1db21c36493670009aee6e919d5c09b78',\n",
       " 'hash': '9a1bb9abf0b735e8ccffc823abea56b1db21c36493670009aee6e919d5c09b78',\n",
       " 'version': 1,\n",
       " 'size': 223,\n",
       " 'vsize': 223,\n",
       " 'weight': 892,\n",
       " 'locktime': 0,\n",
       " 'vin': [{'txid': '13c56ab554529f300c6e49d02a3400f37a16259466b16e424250f5aaee50cdc8',\n",
       "   'vout': 1,\n",
       "   'scriptSig': {'asm': '3045022100f531396979a357f15904be10ec1acf72bb359ca90a7cb9f2df4999beff04aabc022012d975e08ed7739c96df9fee71bbce97498bd517787fd97b851c03f06037ee1c[ALL] 03041eeb4a77757e252d281bcabc163cdc52d76d2be5547902214d84a9e3bb8229',\n",
       "    'hex': '483045022100f531396979a357f15904be10ec1acf72bb359ca90a7cb9f2df4999beff04aabc022012d975e08ed7739c96df9fee71bbce97498bd517787fd97b851c03f06037ee1c012103041eeb4a77757e252d281bcabc163cdc52d76d2be5547902214d84a9e3bb8229'},\n",
       "   'sequence': 4294967295}],\n",
       " 'vout': [{'value': 0.0033,\n",
       "   'n': 0,\n",
       "   'scriptPubKey': {'asm': '0 f6349bc79dbec17997c7118e44266b9fa8fec7f8',\n",
       "    'desc': 'addr(bc1q7c6fh3uahmqhn978zx8ygfntn750a3lc8l2gfr)#wrj3r36g',\n",
       "    'hex': '0014f6349bc79dbec17997c7118e44266b9fa8fec7f8',\n",
       "    'address': 'bc1q7c6fh3uahmqhn978zx8ygfntn750a3lc8l2gfr',\n",
       "    'type': 'witness_v0_keyhash'}},\n",
       "  {'value': 9.49e-06,\n",
       "   'n': 1,\n",
       "   'scriptPubKey': {'asm': 'OP_DUP OP_HASH160 20ccc1f192df48568ae82331c9b16660e8d0900a OP_EQUALVERIFY OP_CHECKSIG',\n",
       "    'desc': 'addr(13zRuwqgCsEmGNsFDyWhYaSoxva6KdUnaU)#0l3w8m74',\n",
       "    'hex': '76a91420ccc1f192df48568ae82331c9b16660e8d0900a88ac',\n",
       "    'address': '13zRuwqgCsEmGNsFDyWhYaSoxva6KdUnaU',\n",
       "    'type': 'pubkeyhash'}}],\n",
       " 'hex': '0100000001c8cd50eeaaf55042426eb1669425167af300342ad0496e0c309f5254b56ac513010000006b483045022100f531396979a357f15904be10ec1acf72bb359ca90a7cb9f2df4999beff04aabc022012d975e08ed7739c96df9fee71bbce97498bd517787fd97b851c03f06037ee1c012103041eeb4a77757e252d281bcabc163cdc52d76d2be5547902214d84a9e3bb8229ffffffff021009050000000000160014f6349bc79dbec17997c7118e44266b9fa8fec7f8b5030000000000001976a91420ccc1f192df48568ae82331c9b16660e8d0900a88ac00000000'}"
      ]
     },
     "execution_count": 59,
     "metadata": {},
     "output_type": "execute_result"
    }
   ],
   "source": [
    "tx_decodes[0]"
   ]
  },
  {
   "cell_type": "code",
   "execution_count": 60,
   "id": "1b53b58f",
   "metadata": {},
   "outputs": [
    {
     "data": {
      "text/plain": [
       "Counter({752704: 43, 752706: 3, 752705: 13, None: 1})"
      ]
     },
     "execution_count": 60,
     "metadata": {},
     "output_type": "execute_result"
    }
   ],
   "source": [
    "# https://gz.blockchair.com/bitcoin/transactions/blockchair_bitcoin_transactions_20220905.tsv.gz\n",
    "with open('blockchair_bitcoin_transactions_20220905.tsv') as f:\n",
    "    transaction_listing = f.readlines()\n",
    "\n",
    "def find_block(txid):\n",
    "    for tx in transaction_listing:\n",
    "        if txid in tx:\n",
    "            return int(tx.split()[0])\n",
    "        \n",
    "blocks = [find_block(txid) for txid in txids]\n",
    "collections.Counter(blocks)"
   ]
  },
  {
   "cell_type": "code",
   "execution_count": 61,
   "id": "6052d1d9",
   "metadata": {},
   "outputs": [
    {
     "data": {
      "text/plain": [
       "['5598ef82876f3f227ae84f587fc67267364f04ce8721248604e8fe680d9b9f27']"
      ]
     },
     "execution_count": 61,
     "metadata": {},
     "output_type": "execute_result"
    }
   ],
   "source": [
    "[txid for txid in txids if find_block(txid) is None]"
   ]
  },
  {
   "cell_type": "code",
   "execution_count": 62,
   "id": "4102087e",
   "metadata": {},
   "outputs": [
    {
     "data": {
      "text/plain": [
       "[{'txid': '5598ef82876f3f227ae84f587fc67267364f04ce8721248604e8fe680d9b9f27',\n",
       "  'hash': 'b9d3a91cd9c46346316ecb187d1c7eb05155c0fd9848401bde8578e48c669b20',\n",
       "  'version': 2,\n",
       "  'size': 191,\n",
       "  'vsize': 110,\n",
       "  'weight': 437,\n",
       "  'locktime': 0,\n",
       "  'vin': [{'txid': '699f16147878c8dfefe88921cdcef72cacd24a212b101e09099342c628baaf43',\n",
       "    'vout': 62,\n",
       "    'scriptSig': {'asm': '', 'hex': ''},\n",
       "    'txinwitness': ['304402207c45cef50619d9fa94a4ab5fe17ecd30f65f274820808b8b3e4b5aeafb71003e02202791dd28850f1f3be68a1a3dbb736245c64f1c171012189766b03d2fbc376b0301',\n",
       "     '0377bae134cbdacc9c40b381eacff70e45a68f3f45eac8648bb3381c7ba9595f7c'],\n",
       "    'sequence': 4294967293}],\n",
       "  'vout': [{'value': 0.89339695,\n",
       "    'n': 0,\n",
       "    'scriptPubKey': {'asm': '0 7749f9e8a4a42d27327ac6406e24491e406ae24f',\n",
       "     'desc': 'addr(bc1qwayln69y5skjwvn6ceqxufzfreqx4cj0znkntg)#6vlhur7l',\n",
       "     'hex': '00147749f9e8a4a42d27327ac6406e24491e406ae24f',\n",
       "     'address': 'bc1qwayln69y5skjwvn6ceqxufzfreqx4cj0znkntg',\n",
       "     'type': 'witness_v0_keyhash'}}],\n",
       "  'hex': '0200000000010143afba28c6429309091e102b214ad2ac2cf7cecd2189e8efdfc8787814169f693e00000000fdffffff012f375305000000001600147749f9e8a4a42d27327ac6406e24491e406ae24f0247304402207c45cef50619d9fa94a4ab5fe17ecd30f65f274820808b8b3e4b5aeafb71003e02202791dd28850f1f3be68a1a3dbb736245c64f1c171012189766b03d2fbc376b0301210377bae134cbdacc9c40b381eacff70e45a68f3f45eac8648bb3381c7ba9595f7c00000000'}]"
      ]
     },
     "execution_count": 62,
     "metadata": {},
     "output_type": "execute_result"
    }
   ],
   "source": [
    "[tx for tx in tx_decodes if tx['txid'] == '5598ef82876f3f227ae84f587fc67267364f04ce8721248604e8fe680d9b9f27']"
   ]
  },
  {
   "cell_type": "code",
   "execution_count": 63,
   "id": "6ced25ae",
   "metadata": {},
   "outputs": [
    {
     "data": {
      "text/plain": [
       "6515"
      ]
     },
     "execution_count": 63,
     "metadata": {},
     "output_type": "execute_result"
    }
   ],
   "source": [
    "max_idx = np.argmax([len(t[0]) for t in transactions_defrag])\n",
    "len(transactions_defrag[max_idx][0])"
   ]
  },
  {
   "cell_type": "code",
   "execution_count": 64,
   "id": "434c27a0",
   "metadata": {},
   "outputs": [
    {
     "data": {
      "text/plain": [
       "{'txid': '75e3d4bf976e7d0ca03c3ee33e7ac43ea324cf177178288adab4f550902c10dc',\n",
       " 'hash': '154d1b6a3ccd082f84f4e59ed5acb35450795ef0c13e7e916d04c6af8b04afb5',\n",
       " 'version': 2,\n",
       " 'size': 6854,\n",
       " 'vsize': 3161,\n",
       " 'weight': 12644,\n",
       " 'locktime': 752703,\n",
       " 'vin': [{'txid': '8cb9c18317e3876ac35ad51370328c694281d3b6ee81537427df60d46e3a3be9',\n",
       "   'vout': 8,\n",
       "   'scriptSig': {'asm': '', 'hex': ''},\n",
       "   'txinwitness': ['30440220470fa49cdd8911b927888b08aa7565291ac6d0ab1b89ef901c12d833a5977e3e02206a9918d212e46b2f4e09e6507b2b7954fc0157e3c2dd823f57605fa7cc0fb6ba01',\n",
       "    '03f23b1885d117815d2dbb1f20cb936a83ddfc49837136d18f7ad3e01f3cd507d6'],\n",
       "   'sequence': 4294967294},\n",
       "  {'txid': '58c595d5f4790d62e039c3fb7954e7fd98437ea03ff8bec5daec0caf9487c34a',\n",
       "   'vout': 5,\n",
       "   'scriptSig': {'asm': '', 'hex': ''},\n",
       "   'txinwitness': ['30440220207ad2029273f27f3cf68ebeb71cb4791f80482bb0f246fe0dce03981b9bf94802202cb3ab1fb83daecfa06e204263e9ba2ce6e6d38c6d65c5fb576ed58084c847b701',\n",
       "    '02875f8378569733d8fb2aeaf46d51c6d874b22ec5fecc2a04724f43dfea7cbb8e'],\n",
       "   'sequence': 4294967294},\n",
       "  {'txid': '281774462ff9514ac3df14643727535f0ce4b780d6a4c4bb2a49437e0d84e18a',\n",
       "   'vout': 4,\n",
       "   'scriptSig': {'asm': '', 'hex': ''},\n",
       "   'txinwitness': ['30440220265b0eed193bc58ea4dbc5f834ded85fdce4d9c636588301d2bd0108a55a3fcd0220720055d9d03f85cae7b9a49b074dac9c112a3987daeb41ef312ea64079d084d901',\n",
       "    '02d9f25dda182e3d8dc7c7ca168af7666ab61c7c33ad6039a0507ce3a0feaef7c8'],\n",
       "   'sequence': 4294967294},\n",
       "  {'txid': '2aa89b9405d803c0aaf1fd45639acec468fea120763cf2a34214d2356f2378c6',\n",
       "   'vout': 6,\n",
       "   'scriptSig': {'asm': '', 'hex': ''},\n",
       "   'txinwitness': ['3044022040e78b550bb8f96a5626c2ba43afc9dc55cbbf291226d209168c8788c4b65ef70220707d172b92ab6c1254e7b089ccd69c8565c710cd580a0e8ac31976588c7f2eed01',\n",
       "    '036f427d680f6aef49cb175d9506e9ac76b33a46a344b71aedd2e535d3d4adf84a'],\n",
       "   'sequence': 4294967294},\n",
       "  {'txid': '96c8af5727409a79e155c5e0ee130fb3fbb17fc39f392f508e60aa6b4d3d81bb',\n",
       "   'vout': 1,\n",
       "   'scriptSig': {'asm': '', 'hex': ''},\n",
       "   'txinwitness': ['3044022037980877b972aba3b1f45d1c6211eccbd898d8f2d91dc917ab4dfcacc48bdd980220565c8eed3a91c95532ae57daec9990988b427dde6979abc5da28a8a4557587cd01',\n",
       "    '0260cc4b504673555cf6c3540f91bb0c1fa528f14d253c0f9025609faf675076af'],\n",
       "   'sequence': 4294967294},\n",
       "  {'txid': '87065effedd6775a8e407beddea98b55c507c0d5e100e214b43eb9a42d222108',\n",
       "   'vout': 16,\n",
       "   'scriptSig': {'asm': '', 'hex': ''},\n",
       "   'txinwitness': ['3044022051a715ac6970a5fe689da22b06d57b01addeef4234ffbbd3b4d9d231a136fc9302205da875b1a34474d9e40a51dcde997c9a9501bc12f8db4587a7f1233b2e9a0f4701',\n",
       "    '03eceda41deaa8d98001d3cff6ceb9e5aa3b8e8d4b9d3e11aafc98fab92ad617e1'],\n",
       "   'sequence': 4294967294},\n",
       "  {'txid': 'ff73dc8c1910ed7e9e0f99c95a2495fb8b9322bad7f5dc8e92728696aefbd741',\n",
       "   'vout': 8,\n",
       "   'scriptSig': {'asm': '', 'hex': ''},\n",
       "   'txinwitness': ['3044022020872d9070d18774e2da49fead28c97d96dfd8bd994d2159c5fea05460aea720022070ac498c05df01197f0a901faa21e5f9d9cdfb4986d749732ded5202460ad09201',\n",
       "    '022606a1c192f70f19e634c690e0be2b1f264066e2be826ad093e459a00bfb62e3'],\n",
       "   'sequence': 4294967294},\n",
       "  {'txid': '676b2e67a5eda4110d7463463396ca5b57f8510b610226047b83858ed93ffe22',\n",
       "   'vout': 3,\n",
       "   'scriptSig': {'asm': '', 'hex': ''},\n",
       "   'txinwitness': ['304402206deb6577fc57049df89c7bf1bca5ab948922258028312af0d4a1cb43941d3a0b0220339a9523e533b4296363765102c67367c04f30febeb83d2f8a5ef1ae72e50f1101',\n",
       "    '0392c4225c7f1eb4a076e007b9c94c29fa4ffb89629783c0ba0df498e4ff700f42'],\n",
       "   'sequence': 4294967294},\n",
       "  {'txid': '7f07dcc4e52be5494418ca1897990a940946a46c64ff6fa9ec29549a5dafef9d',\n",
       "   'vout': 7,\n",
       "   'scriptSig': {'asm': '', 'hex': ''},\n",
       "   'txinwitness': ['30440220146c1189e75ae66c73bbd394a41279f3448c00ec6cd71cdb31a2dd93000fa7da02207163020e5447e97475de5c5bfbf5f38f5443bea7a2a08a98329cf3248048be1c01',\n",
       "    '03fb219b95cf212d8bc8aa9c3e94d1c53302d2d7673252c5ef3be46dbac10eb371'],\n",
       "   'sequence': 4294967294},\n",
       "  {'txid': '57f0935cad843ea2e0ac13c5f835277db8e59ffcd29240d7e2ab65a678c7079e',\n",
       "   'vout': 4,\n",
       "   'scriptSig': {'asm': '', 'hex': ''},\n",
       "   'txinwitness': ['304402203e783a48497c3238090a3da5940ee96df8306c87d9a08edd0e0919b6906d917d02207e0e17f5806a5dc4c277226aa79ec570a76adffaaec40a39ca41c48a01f97cc201',\n",
       "    '03c69b9a54cddf161cea8b5fce3f908c65d42eb9b77194406754f649fd3fc8a96e'],\n",
       "   'sequence': 4294967294},\n",
       "  {'txid': 'cd2bdae9faa0091fdfff660d48e94ed340e3d9af071069dc61b31175f7e116c0',\n",
       "   'vout': 2,\n",
       "   'scriptSig': {'asm': '', 'hex': ''},\n",
       "   'txinwitness': ['304402204d4bf19984722bacb01c471fe3409079b2e16cbcd69ffd34f91fb609ab7ecd4a02205b5b92bf6bf6b5c47f7355c6a8cbfa9a1c17925940b88fb8d7a8816d54f81f1301',\n",
       "    '02ff6337cdf81eb3a5ef9190b0152a5d12c16258ad2b6517ae1f1939e721b27672'],\n",
       "   'sequence': 4294967294},\n",
       "  {'txid': 'd82196a8b9bae9fa52115c0740b0b82d77b32e087c3097a13934f0d0bfc01183',\n",
       "   'vout': 3,\n",
       "   'scriptSig': {'asm': '', 'hex': ''},\n",
       "   'txinwitness': ['304402206de39e4177f5535340b5d2450ca9771873cf67d32fc3398b296ae455f48014950220040d106094716a9ae2a6aa3a2d01ee05c5ed19c98e640a410a9fc070ebf6a43f01',\n",
       "    '02474f2268970d99100e841ddd8d71bf4447f48da5dca56288af08f58613e39cc7'],\n",
       "   'sequence': 4294967294},\n",
       "  {'txid': 'c97692d3dba28f6f245538651df5059034d1f8e868db0142b1c7be5146c007fe',\n",
       "   'vout': 0,\n",
       "   'scriptSig': {'asm': '', 'hex': ''},\n",
       "   'txinwitness': ['3044022032331f85024246ee668cd434cae36103a4d12f5cbc3b523e2630d3abb45884d502207bcb1d7320b17143f190da1e4d8141080476f62a8fe24fee0d1535ef92ea906701',\n",
       "    '034d54fd7cfb2e39b6e1064967b45f2965118a0c1a8038299311c3e05d2acfb9d2'],\n",
       "   'sequence': 4294967294},\n",
       "  {'txid': '4c4448e10a5ce59c3cf5f9f71a8c97611be28ca244be05fee56f5fb33123a2c5',\n",
       "   'vout': 3,\n",
       "   'scriptSig': {'asm': '', 'hex': ''},\n",
       "   'txinwitness': ['304402201346da275678fa759e4dece3fffeb4b08724c3511364cc28cbd238b3f301e54a02202c704a46081ae86d67fec354c349be88f3b555f73d3e087f3bd6d8ac7a01e5dd01',\n",
       "    '0211b7026b929fbb1ddd816c4db745e8063926ff81b4bfaf495f15ea77c16e4db8'],\n",
       "   'sequence': 4294967294},\n",
       "  {'txid': '2b70e01406545a4873a655303da5229f740bcfb0569d5ff7048b9e936df022d9',\n",
       "   'vout': 2,\n",
       "   'scriptSig': {'asm': '', 'hex': ''},\n",
       "   'txinwitness': ['304402206844844441c0b3c05de6944e2dc1b9b58169db2d00a36e4ba2124df045016b60022058c4e98d38dc42c746363a2e47e13c395b611ac79756365c7bb685b1a465344401',\n",
       "    '02403703ab8b127e93faab22f15c4f931e522c6189e71d05326e98de5b989b5085'],\n",
       "   'sequence': 4294967294},\n",
       "  {'txid': '35d98d6750f91046a0d368bd54201db3b93bfc7e1d86b60ba59178680a5ce618',\n",
       "   'vout': 4,\n",
       "   'scriptSig': {'asm': '', 'hex': ''},\n",
       "   'txinwitness': ['3044022010730ff332ad9a29396b89a0c0d6b71b1dc341dc891ac94ce9b70adf1efd70870220636211b31565d63d308aa7d8ea32bcb70923e70e6028202950f4966e567700ee01',\n",
       "    '02c26f52fa0d41ff642615d21344e29d2e4164edc366c790dac7f409a554f20031'],\n",
       "   'sequence': 4294967294},\n",
       "  {'txid': '3fa2dffecc2337513b9a729f7f0fac774774ddd9365caaed258c3d217a908b0e',\n",
       "   'vout': 9,\n",
       "   'scriptSig': {'asm': '', 'hex': ''},\n",
       "   'txinwitness': ['3044022022aed1050d5d1e81f6eef340594b576ae7b96a96a39a6b8bc8ea80f6347931b70220736d9f236f37b5a59cc00616732c2e99ef261f8968af95ffb696ca37c35938d301',\n",
       "    '0229290b9197678fff460460e0567b15fdfd953695ebe9dca0363fcfd9160e9017'],\n",
       "   'sequence': 4294967294},\n",
       "  {'txid': 'd3ac45387fc47640b015ea7f8d392daae8ce82b608ead175d66e297402b904cd',\n",
       "   'vout': 11,\n",
       "   'scriptSig': {'asm': '', 'hex': ''},\n",
       "   'txinwitness': ['30440220729b47f274b83b4d3c0ab8ffc06e1690189d96a666f734d4f0e5aa33b134f7d5022001a5172bd17f2c7658f6c9bf92e46cb54805179c0ebc07a26a780305fa381df101',\n",
       "    '0259944c41e114f2caab676ef27890cfd9ed593dda92dc1459ab09e39d82e2077c'],\n",
       "   'sequence': 4294967294},\n",
       "  {'txid': '8fdd6aff213a60b66ce8d9e6c609bdda5b586f0dfa9ab7d52f90e0e3dbc50ee5',\n",
       "   'vout': 13,\n",
       "   'scriptSig': {'asm': '', 'hex': ''},\n",
       "   'txinwitness': ['3044022023ede069d5eb851313b05fdf6f289a09daefe55d2c84eca14616bc7e00f695e402201776767e2f94d79bab4e669d30b71437700cce7bcdff37c87df778ff5f297ad901',\n",
       "    '02892e05df7ee1f31843654fcc724de70905afec199f777c99afb341241be217f6'],\n",
       "   'sequence': 4294967294},\n",
       "  {'txid': '07d0f3d46b5caba300fc54e584f3300965b85c52ac442edb6396d560e28dcf84',\n",
       "   'vout': 15,\n",
       "   'scriptSig': {'asm': '', 'hex': ''},\n",
       "   'txinwitness': ['30440220034adfea330b237bdc3f4871198cdca87d9e3f676aa27d002f0bd912db0e754e02202d9a797f7a9e623919d09544a60beebffe00802d737e2fc267f8e387066e041001',\n",
       "    '033e5ac3516ef87e17a3ffd6710023da9dc4479b3aaa89fcfe6f5bf245bf759da5'],\n",
       "   'sequence': 4294967294},\n",
       "  {'txid': '45346bf6d3291dc9220c5f166268d383cb979a32c7aa2021b36712a3e95e54c6',\n",
       "   'vout': 6,\n",
       "   'scriptSig': {'asm': '', 'hex': ''},\n",
       "   'txinwitness': ['304402202d6507b68f14c385ede77daf09787c2b68f172a7846f92538b425a9661aa41ce02201c968e65927199047a951942c357d532834de806eb5752d9f67e29381fc5478801',\n",
       "    '02d98e62c290893ef8c7c7f124b1520995c69a63681b388392a313eff334f9f21a'],\n",
       "   'sequence': 4294967294},\n",
       "  {'txid': 'd39cf2585414e8a4a0fe1078dbcc63b71254ed0c1ae71ae23d7fb9ffe16251f1',\n",
       "   'vout': 3,\n",
       "   'scriptSig': {'asm': '', 'hex': ''},\n",
       "   'txinwitness': ['304402201f046dc73df4ce6e77c877a965ed522fea7d6a9ff95e5b1fa908c49654f199ca0220097b6c19a239cc0f265563a5d998022c7bdc24cd9f3a2441a091bbecbb4680f801',\n",
       "    '03437e6db31e1c98d6d8a618ab87e29fd665f5a4633e32e37725b80ff44f17dc70'],\n",
       "   'sequence': 4294967294},\n",
       "  {'txid': '7532c0dcd2c58fd356c1083e8a4e210ef99bdbf0e6ecf7f67fbf7266129e665d',\n",
       "   'vout': 11,\n",
       "   'scriptSig': {'asm': '', 'hex': ''},\n",
       "   'txinwitness': ['304402204fdfe19b4d2199970ec58de15793277a5be58149a64ca3aac54d87e002eeb43302205f9b39a79cbdb24e89255387a1c7f32b3990bf2621c9142d76f306228e4cd1a401',\n",
       "    '02c703ce58eb8df0bfb57a63c4b411a2b068db74952e2f89f4b322f6d25a107735'],\n",
       "   'sequence': 4294967294},\n",
       "  {'txid': 'ea176c6420c48a05cec05b30988e0cb18cc379c8209c596abb7cee2f89c4a3ed',\n",
       "   'vout': 15,\n",
       "   'scriptSig': {'asm': '', 'hex': ''},\n",
       "   'txinwitness': ['3044022058568fc87854fd54c622c85db97efe36b072cd6232a6fd68f2210635be761a3c0220667d18167386116b46ca6bc00e28e381ad06a2019bfbe50f265936f16bc1120001',\n",
       "    '020a4969197ca07c3a252f78a2882a556ef9afc9850862f05e1b24502b6fff85f1'],\n",
       "   'sequence': 4294967294},\n",
       "  {'txid': '4ee1cc14227b942f7fdd042660518eaaddc3657eaa85fe8a43f6a913eb72eeb6',\n",
       "   'vout': 1,\n",
       "   'scriptSig': {'asm': '', 'hex': ''},\n",
       "   'txinwitness': ['30440220282d89baf8349fe946d67a46d14e70f7c0f8fc2431ce917fd54abefb22f6363b02203239f648cca0431862b9e6f7344f555d2cbc2695f5f8deee12777af20e922da601',\n",
       "    '0242d38d1804aa8a1157783fdfad61cfa4da9c99ee5881d7eabb64878c90cf665c'],\n",
       "   'sequence': 4294967294},\n",
       "  {'txid': 'cd658cefe239e786bb23d2f7c25f22f573ad94dee89abc8e7d297ea96d7d4c4b',\n",
       "   'vout': 9,\n",
       "   'scriptSig': {'asm': '', 'hex': ''},\n",
       "   'txinwitness': ['3044022079d75fff512f369c796293a614dd26e4fe7a9507ed4949aabf0dbfee459276d7022023a5975b69959674693ea37ee221ba9761a2913f51911f11c537212b21b6219101',\n",
       "    '0362e1e811bb82e5dcc7891da190f21b213afa4a30a8c63e2718d2cccb87ee2812'],\n",
       "   'sequence': 4294967294},\n",
       "  {'txid': 'f997da0601c4baa72f14be2d473f25159be7e6aacf390ac56707424f4a9058d5',\n",
       "   'vout': 8,\n",
       "   'scriptSig': {'asm': '', 'hex': ''},\n",
       "   'txinwitness': ['304402207db3385efc5bae7c6f4fbeb37ac0e73ad4d562c58abac0cb0fbf8956dc9e1ce0022047d497f7b81100d97271a0501343601e9e6cf242cd883838c44fccc04b8a021801',\n",
       "    '029d7cb610ebf53a5c33385d67db558f93ee5fd050b1556af57ec059ae9f3a3cea'],\n",
       "   'sequence': 4294967294},\n",
       "  {'txid': '6394170fe2372015e668a0fbf8b10ce59c56d043111f8a83fbe5a4c74c2823be',\n",
       "   'vout': 0,\n",
       "   'scriptSig': {'asm': '', 'hex': ''},\n",
       "   'txinwitness': ['304402200c39f49d19d9270c68343fec16791c8d1f612e6e309d969b2086515812304ed0022049611eeb742ac4b763d820afdcc6417b25f6073ff0b197b3430ed28fc055b3b801',\n",
       "    '0212df9b78cae1bbb596cf10fc0f610055bc3aa31c11da99ee99d4dc8f7d52e978'],\n",
       "   'sequence': 4294967294},\n",
       "  {'txid': '5b5cc9d883b0479b1378acfd3ec9c2caf77704ef9ad0819a7836fab910e58dea',\n",
       "   'vout': 14,\n",
       "   'scriptSig': {'asm': '', 'hex': ''},\n",
       "   'txinwitness': ['30440220739033af0f28bcd1ab06f679af3c729503c175e2cade7ded2e5b381852e3b9ad02207d27dc6d20d4bd169fd9e2a572db2cb10124680b259a421ce25a296f65d4241f01',\n",
       "    '026fc466b500dd134e20ed820dbcc8fec040dbcf8294df9df4aa0142ed4ac7515a'],\n",
       "   'sequence': 4294967294},\n",
       "  {'txid': 'cef8c5c9a581f17a45a187423c2473aada4130b2b4f659c7a69b57eb73da5155',\n",
       "   'vout': 0,\n",
       "   'scriptSig': {'asm': '', 'hex': ''},\n",
       "   'txinwitness': ['304402205fd3721cb5fe56e90d20f30b3eae399878e3923670ae3d7f3cb9050cbc39b7170220214b32613acffb766d91f7fc5aca0ed1ffcc6bdab3b31482fa89e16a64326b5c01',\n",
       "    '03b214f5f4dbe56f0a2b5e67404ac9eb46d052e681eb980ccbac324fa2af9c8e6e'],\n",
       "   'sequence': 4294967294},\n",
       "  {'txid': '7d337f1ec0ed15ddc3d37d3a3048a69511866b820b9c211c3af2ede50b33a58f',\n",
       "   'vout': 15,\n",
       "   'scriptSig': {'asm': '', 'hex': ''},\n",
       "   'txinwitness': ['304402201f7346578f0204fa8a3e0be0625811ff8ad22d71bfbfe1299457798132c162e902200c06103e8dd0e1b0cf84310b3457285164e0aeb648940fb49d5b1cb49f3ae07d01',\n",
       "    '0389d30af7410d33cb8b1960df7ab4f74de8c06307e2853199c503919c39b23e4a'],\n",
       "   'sequence': 4294967294},\n",
       "  {'txid': '4d2523aeb8f440bd771cd1475e768bd8cde735bc6d5a29ef653bcdc62afb73cd',\n",
       "   'vout': 4,\n",
       "   'scriptSig': {'asm': '', 'hex': ''},\n",
       "   'txinwitness': ['304402206fd41f872ef9f89d1f298a527d30134accaf933dc70d1ed651e60a5312d1c697022051b37685437a456a62ae49456284c15717f5f84b9e03f1c0c93a0b0682c918b401',\n",
       "    '036f427d680f6aef49cb175d9506e9ac76b33a46a344b71aedd2e535d3d4adf84a'],\n",
       "   'sequence': 4294967294},\n",
       "  {'txid': '0eacf071582eb6d110355d5aa909a430fc16c6add09c60978f7317dfb5a11aeb',\n",
       "   'vout': 0,\n",
       "   'scriptSig': {'asm': '', 'hex': ''},\n",
       "   'txinwitness': ['304402201b27c0f9e9ba299defe1b9ce1542b0917146e3f0b393536db388f13e9d84094002203af04bebab89cd5b1afe7f3298ad2d0abc89587953f7c91493d6d4fcb651f8d001',\n",
       "    '02447cdac22c735be36390d3bdc2127d24188ad0673aaababfa21c59c6881734ce'],\n",
       "   'sequence': 4294967294},\n",
       "  {'txid': '2490a8a228a334cc36bd61b99779a57975c5972df2f0122ca5cd3b4528fc4c4f',\n",
       "   'vout': 23,\n",
       "   'scriptSig': {'asm': '', 'hex': ''},\n",
       "   'txinwitness': ['3044022023417f03c75127e92082a5d1b64c30783a231f8f6ec689e6da976f75a4c408cf02205b436975fbf27387f42d4710a5711da6642e3a1c2da490e1cdb2d2713b98e92101',\n",
       "    '031e4a917bf335450c5478a941b698e190347a91682b223af3aa35bad126bf691a'],\n",
       "   'sequence': 4294967294},\n",
       "  {'txid': 'd35bb9594856dc8d4278c268d94b2baaa645837a26be324c0149623278f78968',\n",
       "   'vout': 1,\n",
       "   'scriptSig': {'asm': '', 'hex': ''},\n",
       "   'txinwitness': ['304402207e9e0b0db3285ad5126a831af446168656695fa10a610b904e1d53857d715b570220044fefa3f3b3f54380dbdc2fdfaf6558ac1cbfbeef62561a30fef0bc9dd429de01',\n",
       "    '0201fccf0d4648e3f3f4226cf0af0a1410f13f0409b55eb561e5dc3ce64bef2bf6'],\n",
       "   'sequence': 4294967294},\n",
       "  {'txid': 'cbec9a690d6f25fb80c339ff7860cac74b39a218f670953d97505f672a89e8b4',\n",
       "   'vout': 15,\n",
       "   'scriptSig': {'asm': '', 'hex': ''},\n",
       "   'txinwitness': ['30440220726c770058c3e657b281281dcc1a6e6ab170230e5d34bdbd2f5be5a2817b874802204057eef77535ba7de3b8cbfaed1e2a9e5ebcfc5eeb26a8f8799f45204f4c742e01',\n",
       "    '0327e3cacd82e6604ae3239ee55c0670a25dc95238f05f65013fd772a17ac6e706'],\n",
       "   'sequence': 4294967294},\n",
       "  {'txid': 'a447a73b8c3e1a3d60157be16d7ee7bcbd67609d452d0ffb02fe862a1023199c',\n",
       "   'vout': 0,\n",
       "   'scriptSig': {'asm': '', 'hex': ''},\n",
       "   'txinwitness': ['3044022051ab6bfd4a3f51f4fd42c2dea033e6ab391a5070594d38b2a1911ed1aa681e75022022a4e583dfed37a298847296c6f7e5af819d15106aa3fe98b0f78bf93eb5a79b01',\n",
       "    '022c889ffe85e34495afcd7f42adde8302f4fd8a9156051d241964d127e79f4bf5'],\n",
       "   'sequence': 4294967294},\n",
       "  {'txid': '387e7c1e64213a9645f5bd49c5e370183e432202ba90628cb7497cc5313e948d',\n",
       "   'vout': 2,\n",
       "   'scriptSig': {'asm': '', 'hex': ''},\n",
       "   'txinwitness': ['304402201dc08e4ad2fa90b61567a43f6a7ba383e91bca87c22eee98c6090a2bcef2aa07022016ea23883b29e48d3da671946e2ee845b2ec55a60eb6cccec770a652eebe8a9201',\n",
       "    '02bc057ebb10584693a7756d617db9f99f1d2d11e58e59653af09d291414d37f87'],\n",
       "   'sequence': 4294967294},\n",
       "  {'txid': '3193ee1778c6fec1c8fd7b1fb994cd84e64885cb76eb37f10d6c854f7a70a28a',\n",
       "   'vout': 0,\n",
       "   'scriptSig': {'asm': '', 'hex': ''},\n",
       "   'txinwitness': ['3044022070c337ec31b6fc92d4b21e588546bfc4a8ae5b436f7a056b5ecb74a0fba13df002206d6a0b48d143a6dbb9aa7cd42403924fe411dd5d71940ee1443a27a8c4e3e1f201',\n",
       "    '020c4f400bc5fb13428e958f1edb62c6bbd7fc482f2d824cb7cb18f11206d3e3c3'],\n",
       "   'sequence': 4294967294},\n",
       "  {'txid': '57264fb6df5ba4e86f5d7963f08517629639a5e0ae3fab25e0e525880b102205',\n",
       "   'vout': 0,\n",
       "   'scriptSig': {'asm': '', 'hex': ''},\n",
       "   'txinwitness': ['3044022041bcdeca9c46d27e074cb1ee632a1aebab0eef7b4eabc44effd77098fde65b0e02207efede9ffb16f7c364120eb4825a90e209bfbc5ff93a6c0925ad10c9045af94101',\n",
       "    '0201fccf0d4648e3f3f4226cf0af0a1410f13f0409b55eb561e5dc3ce64bef2bf6'],\n",
       "   'sequence': 4294967294},\n",
       "  {'txid': '7d8ff46f9d368d843aa238b75de0fa6a4be4f1b7879da8034adf585b8539b8a1',\n",
       "   'vout': 5,\n",
       "   'scriptSig': {'asm': '', 'hex': ''},\n",
       "   'txinwitness': ['304402201445c79e56b3462b31f685f95c65fcb8de566af3eb0c93d13a5407b8d6204a3b02204865abb4eeb9ce236863e1bbddf843604f942cc0009fde9e9cda47500020a46901',\n",
       "    '02285bfb979a67866af0c051a2b44c927d674a00be5945700fe25e37ced16a6fbd'],\n",
       "   'sequence': 4294967294},\n",
       "  {'txid': '0f85e148ea9ef53c56d935cbced88c4c1cff6945ec94b0b3537f8666e9664d8c',\n",
       "   'vout': 4,\n",
       "   'scriptSig': {'asm': '', 'hex': ''},\n",
       "   'txinwitness': ['304402201d9ddb48d1d132a233593f1b2f6acfb16661bc5aa89346806a2d323eabf07fa9022012fabfe1d6cbff06086275a3ba4df071df0bd676b4f64445896c8a54f4c6984601',\n",
       "    '021094647ac01d99ffd801a4cee01ebafe0d5dfb1eb2e7604e00c79bad1e3391b1'],\n",
       "   'sequence': 4294967294},\n",
       "  {'txid': '2250961b5a4078f244017cd40ba1820bb82062c6b17e26fe3d0d7aa599abb389',\n",
       "   'vout': 3,\n",
       "   'scriptSig': {'asm': '', 'hex': ''},\n",
       "   'txinwitness': ['304402205995d6781da64b4ec20403bff54743ba073ead6ec87d039162573b3eef64795f0220214c8cd2e8261c5919928adf577274c19607aae6952ecd7c6eb7e0d1b5329f6a01',\n",
       "    '037c2566eb572c05f3912870fb07d786633c4db0a9014ed9785d11e103e231891f'],\n",
       "   'sequence': 4294967294},\n",
       "  {'txid': '73b57f67c18c78ff764127def50a604314813d473e68b62dae41493839c8f833',\n",
       "   'vout': 4,\n",
       "   'scriptSig': {'asm': '', 'hex': ''},\n",
       "   'txinwitness': ['30440220544e82f0fdd7a7473824132381dfa624573f3ba398c62faabd07b8beb230e08d022007bde3873ae6e3b00088621b7487c021912d16e681cd0556a0c3e8158760828101',\n",
       "    '02b07fd7ea8840ccbc173ce137120cbc0d9bd93525782b3ff6ac14838a2081df49'],\n",
       "   'sequence': 4294967294},\n",
       "  {'txid': 'd395247c38ff7d24ee3462ecee21a69baf741061c6a119931db1a1a32739b638',\n",
       "   'vout': 0,\n",
       "   'scriptSig': {'asm': '', 'hex': ''},\n",
       "   'txinwitness': ['304402204839bf209651888458e36f33c2050e215c4e5610a63f815b947be346c792de6402205ac5a00cdeffdb9e3bf037ec6d06a0ed82afd5ea35b30e9970dcad6b9ad0e1f301',\n",
       "    '028cdf1ff2c8c93a20d1046b0164683d351231ef464d53080232113f767410a139'],\n",
       "   'sequence': 4294967294},\n",
       "  {'txid': 'f0fa1dd1c78d442402053580b5dc2dfeceab308d629165b7aa13fbd566105d6d',\n",
       "   'vout': 3,\n",
       "   'scriptSig': {'asm': '', 'hex': ''},\n",
       "   'txinwitness': ['3044022030787034f8e85fe6db9b51cacd9fc1ca31ab1b06cb20389398755c3c4fd47c3c02206c306ce1373fd9a6d0ff71c879a908d34a818dc98e2ebbf1fefcdb0d9c67aaff01',\n",
       "    '029d7cb610ebf53a5c33385d67db558f93ee5fd050b1556af57ec059ae9f3a3cea'],\n",
       "   'sequence': 4294967294}],\n",
       " 'vout': [{'value': 0.152,\n",
       "   'n': 0,\n",
       "   'scriptPubKey': {'asm': 'OP_DUP OP_HASH160 236fd11ff7a07259f2b3aab906947434bd24c660 OP_EQUALVERIFY OP_CHECKSIG',\n",
       "    'desc': 'addr(14ENbtWT6tVi3qgdkffJx38JGZz3WyTL58)#pysy0u6r',\n",
       "    'hex': '76a914236fd11ff7a07259f2b3aab906947434bd24c66088ac',\n",
       "    'address': '14ENbtWT6tVi3qgdkffJx38JGZz3WyTL58',\n",
       "    'type': 'pubkeyhash'}}],\n",
       " 'hex': '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'}"
      ]
     },
     "execution_count": 64,
     "metadata": {},
     "output_type": "execute_result"
    }
   ],
   "source": [
    "tx_decodes[max_idx]"
   ]
  }
 ],
 "metadata": {
  "kernelspec": {
   "display_name": "Python 3",
   "language": "python",
   "name": "python3"
  },
  "language_info": {
   "codemirror_mode": {
    "name": "ipython",
    "version": 3
   },
   "file_extension": ".py",
   "mimetype": "text/x-python",
   "name": "python",
   "nbconvert_exporter": "python",
   "pygments_lexer": "ipython3",
   "version": "3.10.8"
  }
 },
 "nbformat": 4,
 "nbformat_minor": 5
}
