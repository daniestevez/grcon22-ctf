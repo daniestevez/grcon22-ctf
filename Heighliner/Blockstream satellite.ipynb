{
 "cells": [
  {
   "cell_type": "code",
   "execution_count": 1,
   "id": "0aed6679",
   "metadata": {},
   "outputs": [
    {
     "name": "stderr",
     "output_type": "stream",
     "text": [
      "/home/daniel/.local/lib/python3.10/site-packages/scapy/layers/ipsec.py:471: CryptographyDeprecationWarning: Blowfish has been deprecated\n",
      "  cipher=algorithms.Blowfish,\n",
      "/home/daniel/.local/lib/python3.10/site-packages/scapy/layers/ipsec.py:485: CryptographyDeprecationWarning: CAST5 has been deprecated\n",
      "  cipher=algorithms.CAST5,\n"
     ]
    }
   ],
   "source": [
    "%matplotlib inline\n",
    "import numpy as np\n",
    "import matplotlib.pyplot as plt\n",
    "import struct\n",
    "from satellites import crc  # this requires gr-satellites for CRC calculations\n",
    "import scapy.all\n",
    "from scapy.utils import wrpcap\n",
    "\n",
    "plt.rcParams['figure.figsize'] = (7, 3.5)\n",
    "plt.rcParams['figure.facecolor'] = 'w'"
   ]
  },
  {
   "cell_type": "markdown",
   "id": "12b9fb88",
   "metadata": {},
   "source": [
    "```\n",
    "$ dvbs2-rx --source file --in-file HEIGHLINER_1266400000Hz_2000000sps_75.0dB_2022_09_05_030938.cfile --samp-rate 2e6 --sym-rate 1e6 --rolloff 0.2 --modcod qpsk3/5 --frame-size normal --pilots on --ldpc-iterations 100 --sink file --out-file blockstream.ts\n",
    "log :info: Starting DVB-S2 Rx\n",
    "vmcircbuf_sysconfig :info: Using gr::vmcircbuf_sysv_shm_factory\n",
    "ldpc_decoder_cb :info: frame = 0, snr = 5.32, trials = 100 (max)\n",
    "bch_decoder_bb :info: frame = 0, BCH decoder too many bit errors (FER = 1)\n",
    "bch_decoder_bb :info: frame = 1, BCH decoder too many bit errors (FER = 1)\n",
    "bbdeheader_bb :warning: Baseband header crc failed.\n",
    "bbdeheader_bb :warning: Baseband header crc failed.\n",
    "bch_decoder_bb :info: frame = 2, BCH decoder too many bit errors (FER = 1)\n",
    "bch_decoder_bb :info: frame = 3, BCH decoder too many bit errors (FER = 1)\n",
    "bbdeheader_bb :warning: Baseband header crc failed.\n",
    "bbdeheader_bb :warning: Baseband header crc failed.\n",
    "bch_decoder_bb :info: frame = 4, BCH decoder too many bit errors (FER = 1)\n",
    "bch_decoder_bb :info: frame = 5, BCH decoder too many bit errors (FER = 1)\n",
    "bbdeheader_bb :warning: Baseband header crc failed.\n",
    "bbdeheader_bb :warning: Baseband header crc failed.\n",
    "bch_decoder_bb :info: frame = 6, BCH decoder too many bit errors (FER = 1)\n",
    "bch_decoder_bb :info: frame = 7, BCH decoder too many bit errors (FER = 1)\n",
    "bbdeheader_bb :warning: Baseband header crc failed.\n",
    "bbdeheader_bb :warning: Baseband header crc failed.\n",
    "bch_decoder_bb :info: frame = 8, BCH decoder too many bit errors (FER = 1)\n",
    "bch_decoder_bb :info: frame = 9, BCH decoder too many bit errors (FER = 1)\n",
    "bbdeheader_bb :warning: Baseband header crc failed.\n",
    "bbdeheader_bb :warning: Baseband header crc failed.\n",
    "bch_decoder_bb :info: frame = 10, BCH decoder too many bit errors (FER = 1)\n",
    "bch_decoder_bb :info: frame = 11, BCH decoder too many bit errors (FER = 1)\n",
    "bbdeheader_bb :warning: Baseband header crc failed.\n",
    "bbdeheader_bb :warning: Baseband header crc failed.\n",
    "bch_decoder_bb :info: frame = 12, BCH decoder too many bit errors (FER = 1)\n",
    "bch_decoder_bb :info: frame = 13, BCH decoder too many bit errors (FER = 1)\n",
    "bbdeheader_bb :warning: Baseband header crc failed.\n",
    "bbdeheader_bb :warning: Baseband header crc failed.\n",
    "bch_decoder_bb :info: frame = 14, BCH decoder too many bit errors (FER = 1)\n",
    "bch_decoder_bb :info: frame = 15, BCH decoder too many bit errors (FER = 1)\n",
    "bbdeheader_bb :warning: Baseband header crc failed.\n",
    "bbdeheader_bb :warning: Baseband header crc failed.\n",
    "bch_decoder_bb :info: frame = 16, BCH decoder too many bit errors (FER = 1)\n",
    "bch_decoder_bb :info: frame = 17, BCH decoder too many bit errors (FER = 1)\n",
    "bbdeheader_bb :warning: Baseband header crc failed.\n",
    "bbdeheader_bb :warning: Baseband header crc failed.\n",
    "bch_decoder_bb :info: frame = 18, BCH decoder too many bit errors (FER = 1)\n",
    "bch_decoder_bb :info: frame = 19, BCH decoder too many bit errors (FER = 1)\n",
    "bbdeheader_bb :warning: Baseband header crc failed.\n",
    "bbdeheader_bb :warning: Baseband header crc failed.\n",
    "bch_decoder_bb :info: frame = 20, BCH decoder too many bit errors (FER = 1)\n",
    "bch_decoder_bb :info: frame = 21, BCH decoder too many bit errors (FER = 1)\n",
    "bbdeheader_bb :warning: Baseband header crc failed.\n",
    "bbdeheader_bb :warning: Baseband header crc failed.\n",
    "bch_decoder_bb :info: frame = 22, BCH decoder too many bit errors (FER = 1)\n",
    "bch_decoder_bb :info: frame = 23, BCH decoder too many bit errors (FER = 1)\n",
    "bbdeheader_bb :warning: Baseband header crc failed.\n",
    "bbdeheader_bb :warning: Baseband header crc failed.\n",
    "bch_decoder_bb :info: frame = 24, BCH decoder too many bit errors (FER = 1)\n",
    "bch_decoder_bb :info: frame = 25, BCH decoder too many bit errors (FER = 1)\n",
    "bbdeheader_bb :warning: Baseband header crc failed.\n",
    "bbdeheader_bb :warning: Baseband header crc failed.\n",
    "bch_decoder_bb :info: frame = 26, BCH decoder too many bit errors (FER = 1)\n",
    "bch_decoder_bb :info: frame = 27, BCH decoder too many bit errors (FER = 1)\n",
    "bbdeheader_bb :warning: Baseband header crc failed.\n",
    "bbdeheader_bb :warning: Baseband header crc failed.\n",
    "bch_decoder_bb :info: frame = 28, BCH decoder too many bit errors (FER = 1)\n",
    "bch_decoder_bb :info: frame = 29, BCH decoder too many bit errors (FER = 1)\n",
    "bbdeheader_bb :warning: Baseband header crc failed.\n",
    "bbdeheader_bb :warning: Baseband header crc failed.\n",
    "bch_decoder_bb :info: frame = 30, BCH decoder too many bit errors (FER = 1)\n",
    "bch_decoder_bb :info: frame = 31, BCH decoder too many bit errors (FER = 1)\n",
    "bbdeheader_bb :warning: Baseband header crc failed.\n",
    "bbdeheader_bb :warning: Baseband header crc failed.\n",
    "ldpc_decoder_cb :info: frame = 32, snr = 4.58, trials = 100 (max)\n",
    "bch_decoder_bb :info: frame = 32, BCH decoder too many bit errors (FER = 1)\n",
    "bch_decoder_bb :info: frame = 33, BCH decoder too many bit errors (FER = 1)\n",
    "bbdeheader_bb :warning: Baseband header crc failed.\n",
    "bbdeheader_bb :warning: Baseband header crc failed.\n",
    "bch_decoder_bb :info: frame = 34, BCH decoder too many bit errors (FER = 1)\n",
    "bch_decoder_bb :info: frame = 35, BCH decoder too many bit errors (FER = 1)\n",
    "bbdeheader_bb :warning: Baseband header crc failed.\n",
    "bbdeheader_bb :warning: Baseband header crc failed.\n",
    "bch_decoder_bb :info: frame = 36, BCH decoder too many bit errors (FER = 1)\n",
    "bch_decoder_bb :info: frame = 37, BCH decoder too many bit errors (FER = 1)\n",
    "bbdeheader_bb :warning: Baseband header crc failed.\n",
    "bbdeheader_bb :warning: Baseband header crc failed.\n",
    "bch_decoder_bb :info: frame = 38, BCH decoder too many bit errors (FER = 1)\n",
    "bch_decoder_bb :info: frame = 39, BCH decoder too many bit errors (FER = 1)\n",
    "bbdeheader_bb :warning: Baseband header crc failed.\n",
    "bbdeheader_bb :warning: Baseband header crc failed.\n",
    "bch_decoder_bb :info: frame = 40, BCH decoder too many bit errors (FER = 1)\n",
    "bch_decoder_bb :info: frame = 41, BCH decoder too many bit errors (FER = 1)\n",
    "bbdeheader_bb :warning: Baseband header crc failed.\n",
    "bbdeheader_bb :warning: Baseband header crc failed.\n",
    "bch_decoder_bb :info: frame = 42, BCH decoder too many bit errors (FER = 1)\n",
    "bch_decoder_bb :info: frame = 43, BCH decoder too many bit errors (FER = 1)\n",
    "bbdeheader_bb :warning: Baseband header crc failed.\n",
    "bbdeheader_bb :warning: Baseband header crc failed.\n",
    "bch_decoder_bb :info: frame = 44, BCH decoder too many bit errors (FER = 1)\n",
    "bch_decoder_bb :info: frame = 45, BCH decoder too many bit errors (FER = 1)\n",
    "bbdeheader_bb :warning: Baseband header crc failed.\n",
    "bbdeheader_bb :warning: Baseband header crc failed.\n",
    "bch_decoder_bb :info: frame = 46, BCH decoder too many bit errors (FER = 1)\n",
    "bch_decoder_bb :info: frame = 47, BCH decoder too many bit errors (FER = 1)\n",
    "bbdeheader_bb :warning: Baseband header crc failed.\n",
    "bbdeheader_bb :warning: Baseband header crc failed.\n",
    "bch_decoder_bb :info: frame = 48, BCH decoder too many bit errors (FER = 1)\n",
    "bch_decoder_bb :info: frame = 49, BCH decoder too many bit errors (FER = 1)\n",
    "bbdeheader_bb :warning: Baseband header crc failed.\n",
    "bbdeheader_bb :warning: Baseband header crc failed.\n",
    "bch_decoder_bb :info: frame = 50, BCH decoder too many bit errors (FER = 1)\n",
    "bch_decoder_bb :info: frame = 51, BCH decoder too many bit errors (FER = 1)\n",
    "bbdeheader_bb :warning: Baseband header crc failed.\n",
    "bbdeheader_bb :warning: Baseband header crc failed.\n",
    "bch_decoder_bb :info: frame = 52, BCH decoder too many bit errors (FER = 1)\n",
    "bch_decoder_bb :info: frame = 53, BCH decoder too many bit errors (FER = 1)\n",
    "bbdeheader_bb :warning: Baseband header crc failed.\n",
    "bbdeheader_bb :warning: Baseband header crc failed.\n",
    "bch_decoder_bb :info: frame = 54, BCH decoder too many bit errors (FER = 1)\n",
    "bch_decoder_bb :info: frame = 55, BCH decoder too many bit errors (FER = 1)\n",
    "bbdeheader_bb :warning: Baseband header crc failed.\n",
    "bbdeheader_bb :warning: Baseband header crc failed.\n",
    "bch_decoder_bb :info: frame = 56, BCH decoder too many bit errors (FER = 1)\n",
    "bbdeheader_bb :warning: Baseband header crc failed.\n",
    "bbdeheader_bb :info: Baseband header resynchronizing.\n",
    "ldpc_decoder_cb :info: frame = 64, snr = 4.90, trials = 7\n",
    "ldpc_decoder_cb :info: frame = 96, snr = 4.64, trials = 7\n",
    "ldpc_decoder_cb :info: frame = 128, snr = 4.69, trials = 8\n",
    "ldpc_decoder_cb :info: frame = 160, snr = 4.56, trials = 8\n",
    "ldpc_decoder_cb :info: frame = 192, snr = 4.53, trials = 8\n",
    "ldpc_decoder_cb :info: frame = 224, snr = 4.51, trials = 8\n",
    "ldpc_decoder_cb :info: frame = 256, snr = 4.55, trials = 8\n",
    "ldpc_decoder_cb :info: frame = 288, snr = 4.43, trials = 9\n",
    "ldpc_decoder_cb :info: frame = 320, snr = 4.52, trials = 8\n",
    "ldpc_decoder_cb :info: frame = 352, snr = 4.62, trials = 7\n",
    "ldpc_decoder_cb :info: frame = 384, snr = 4.60, trials = 7\n",
    "ldpc_decoder_cb :info: frame = 416, snr = 4.60, trials = 7\n",
    "ldpc_decoder_cb :info: frame = 448, snr = 4.54, trials = 9\n",
    "ldpc_decoder_cb :info: frame = 480, snr = 4.43, trials = 8\n",
    "ldpc_decoder_cb :info: frame = 512, snr = 4.57, trials = 8\n",
    "ldpc_decoder_cb :info: frame = 544, snr = 4.43, trials = 8\n",
    "ldpc_decoder_cb :info: frame = 576, snr = 4.50, trials = 8\n",
    "ldpc_decoder_cb :info: frame = 608, snr = 4.56, trials = 8\n",
    "ldpc_decoder_cb :info: frame = 640, snr = 4.44, trials = 8\n",
    "ldpc_decoder_cb :info: frame = 672, snr = 4.44, trials = 8\n",
    "ldpc_decoder_cb :info: frame = 704, snr = 4.57, trials = 7\n",
    "ldpc_decoder_cb :info: frame = 736, snr = 4.59, trials = 7\n",
    "ldpc_decoder_cb :info: frame = 768, snr = 4.58, trials = 8\n",
    "ldpc_decoder_cb :info: frame = 800, snr = 4.62, trials = 7\n",
    "ldpc_decoder_cb :info: frame = 832, snr = 4.57, trials = 7\n",
    "ldpc_decoder_cb :info: frame = 864, snr = 4.62, trials = 8\n",
    "ldpc_decoder_cb :info: frame = 896, snr = 4.49, trials = 8\n",
    "log :info: Stopping DVB-S2 Rx\n",
    "```"
   ]
  },
  {
   "cell_type": "code",
   "execution_count": 2,
   "id": "203229f2",
   "metadata": {},
   "outputs": [
    {
     "data": {
      "text/plain": [
       "(22358, 188)"
      ]
     },
     "execution_count": 2,
     "metadata": {},
     "output_type": "execute_result"
    }
   ],
   "source": [
    "ts = np.fromfile('blockstream.ts', dtype = 'uint8').reshape(-1,188)\n",
    "ts.shape"
   ]
  },
  {
   "cell_type": "code",
   "execution_count": 3,
   "id": "5d00ff9d",
   "metadata": {},
   "outputs": [
    {
     "data": {
      "text/plain": [
       "array([71], dtype=uint8)"
      ]
     },
     "execution_count": 3,
     "metadata": {},
     "output_type": "execute_result"
    }
   ],
   "source": [
    "# sync byte 71 = 0x47\n",
    "np.unique(ts[:,0])"
   ]
  },
  {
   "cell_type": "code",
   "execution_count": 4,
   "id": "35825b25",
   "metadata": {},
   "outputs": [
    {
     "data": {
      "text/plain": [
       "array([0], dtype=uint8)"
      ]
     },
     "execution_count": 4,
     "metadata": {},
     "output_type": "execute_result"
    }
   ],
   "source": [
    "# TEI = 0\n",
    "np.unique(ts[:,1] >> 7)"
   ]
  },
  {
   "cell_type": "code",
   "execution_count": 5,
   "id": "560eebef",
   "metadata": {},
   "outputs": [
    {
     "data": {
      "text/plain": [
       "array([0], dtype=uint8)"
      ]
     },
     "execution_count": 5,
     "metadata": {},
     "output_type": "execute_result"
    }
   ],
   "source": [
    "pusi = (ts[:,1] >> 6) & 1\n",
    "# priority = 0\n",
    "np.unique((ts[:,1] >> 5) & 1)"
   ]
  },
  {
   "cell_type": "code",
   "execution_count": 6,
   "id": "8039c055",
   "metadata": {},
   "outputs": [
    {
     "data": {
      "text/plain": [
       "array([  32, 8191], dtype=uint16)"
      ]
     },
     "execution_count": 6,
     "metadata": {},
     "output_type": "execute_result"
    }
   ],
   "source": [
    "pid = ts[:,1:3].ravel().view('uint16').byteswap() & 0x1fff\n",
    "np.unique(pid)"
   ]
  },
  {
   "cell_type": "code",
   "execution_count": 7,
   "id": "57deed63",
   "metadata": {},
   "outputs": [
    {
     "name": "stdout",
     "output_type": "stream",
     "text": [
      "PID 32 ratio 99.4%\n",
      "PID 8191 ratio 0.6%\n"
     ]
    }
   ],
   "source": [
    "for p in np.unique(pid):\n",
    "    print(f'PID {p} ratio {np.average(pid == p) * 100:.1f}%')"
   ]
  },
  {
   "cell_type": "code",
   "execution_count": 8,
   "id": "ca5a3143",
   "metadata": {},
   "outputs": [
    {
     "data": {
      "text/plain": [
       "array([0], dtype=uint8)"
      ]
     },
     "execution_count": 8,
     "metadata": {},
     "output_type": "execute_result"
    }
   ],
   "source": [
    "# TSC = 0\n",
    "np.unique(ts[:,3] >> 6)"
   ]
  },
  {
   "cell_type": "code",
   "execution_count": 9,
   "id": "232dc2e2",
   "metadata": {},
   "outputs": [
    {
     "data": {
      "text/plain": [
       "array([1], dtype=uint8)"
      ]
     },
     "execution_count": 9,
     "metadata": {},
     "output_type": "execute_result"
    }
   ],
   "source": [
    "adaptation = (ts[:,3] >> 4) & 0x3\n",
    "np.unique(adaptation)"
   ]
  },
  {
   "cell_type": "code",
   "execution_count": 10,
   "id": "90b73c07",
   "metadata": {},
   "outputs": [],
   "source": [
    "continuity = ts[:,3] & 0xf"
   ]
  },
  {
   "cell_type": "code",
   "execution_count": 11,
   "id": "13a188d0",
   "metadata": {},
   "outputs": [
    {
     "name": "stdout",
     "output_type": "stream",
     "text": [
      "PID 32 PUSI values [0 1] adaptation field values [1]\n",
      "PID 8191 PUSI values [0] adaptation field values [1]\n"
     ]
    }
   ],
   "source": [
    "for p in np.unique(pid):\n",
    "    print('PID', p, 'PUSI values', np.unique(pusi[pid == p]),\n",
    "          'adaptation field values', np.unique(adaptation[pid == p]))"
   ]
  },
  {
   "cell_type": "code",
   "execution_count": 12,
   "id": "df6a6baf",
   "metadata": {},
   "outputs": [
    {
     "data": {
      "text/plain": [
       "[<matplotlib.lines.Line2D at 0x7ff0b05b05b0>]"
      ]
     },
     "execution_count": 12,
     "metadata": {},
     "output_type": "execute_result"
    },
    {
     "data": {
      "image/png": "[encoded data removed]",
      "text/plain": [
       "<Figure size 700x350 with 1 Axes>"
      ]
     },
     "metadata": {},
     "output_type": "display_data"
    }
   ],
   "source": [
    "packet_loss = np.diff(continuity[pid == 32]).astype('int') % 16 - 1\n",
    "plt.plot(packet_loss)"
   ]
  },
  {
   "cell_type": "code",
   "execution_count": 13,
   "id": "e36eb7f0",
   "metadata": {},
   "outputs": [],
   "source": [
    "payloads = []\n",
    "current_payload = None\n",
    "for packet, packet_pusi in zip(ts[pid == 32], pusi[pid == 32]):\n",
    "    if packet_pusi:\n",
    "        pointer_field = packet[4]\n",
    "        if current_payload is not None:\n",
    "            current_payload += bytes(packet[5:][:pointer_field])\n",
    "            payloads.append(current_payload)\n",
    "        current_payload = bytes(packet[5+pointer_field:])\n",
    "    elif current_payload is not None:\n",
    "        current_payload += bytes(packet[4:])"
   ]
  },
  {
   "cell_type": "code",
   "execution_count": 14,
   "id": "9cc7e46d",
   "metadata": {},
   "outputs": [
    {
     "data": {
      "text/plain": [
       "{'0x3e'}"
      ]
     },
     "execution_count": 14,
     "metadata": {},
     "output_type": "execute_result"
    }
   ],
   "source": [
    "# table ID = 0x3e (DSM-CC sections with private data)\n",
    "{hex(p[0]) for p in payloads}"
   ]
  },
  {
   "cell_type": "code",
   "execution_count": 15,
   "id": "76d76dff",
   "metadata": {},
   "outputs": [],
   "source": [
    "# check that if there are bytes after the section, they are all 0xff bytes\n",
    "section_lengths = [struct.unpack('>H', p[1:3])[0] & 0xfff for p in payloads]\n",
    "for p, length in zip(payloads, section_lengths):\n",
    "    padding_length = len(p) - (3 + length)\n",
    "    assert p[3 + length:] == b'\\xff' * padding_length"
   ]
  },
  {
   "cell_type": "code",
   "execution_count": 16,
   "id": "469089de",
   "metadata": {},
   "outputs": [],
   "source": [
    "# check section CRC's\n",
    "crc32_mpeg = crc(32, 0x4C11DB7, 0xFFFFFFFF, 0x0, False, False)\n",
    "for p, length in zip(payloads, section_lengths):\n",
    "    res = crc32_mpeg.compute(list(p[:3+length-4]))\n",
    "    assert res == struct.unpack('>I', p[3+length-4:][:4])[0]"
   ]
  },
  {
   "cell_type": "code",
   "execution_count": 17,
   "id": "6f072302",
   "metadata": {},
   "outputs": [
    {
     "data": {
      "image/png": "[encoded data removed]",
      "text/plain": [
       "<Figure size 700x350 with 1 Axes>"
      ]
     },
     "metadata": {},
     "output_type": "display_data"
    }
   ],
   "source": [
    "padding_lengths = np.array([len(p) for p in payloads]) - np.array(section_lengths) - 3\n",
    "plt.plot(padding_lengths, '.-', linewidth=0.5)\n",
    "plt.title('Number of padding bytes at the end of MPE datagram sections')\n",
    "plt.ylabel('Number of bytes')\n",
    "plt.xlabel('Datagram section number');"
   ]
  },
  {
   "cell_type": "code",
   "execution_count": 18,
   "id": "4915525c",
   "metadata": {},
   "outputs": [
    {
     "data": {
      "image/png": "[encoded data removed]",
      "text/plain": [
       "<Figure size 700x350 with 1 Axes>"
      ]
     },
     "metadata": {},
     "output_type": "display_data"
    }
   ],
   "source": [
    "plt.hist(padding_lengths, bins=10)\n",
    "plt.semilogy()\n",
    "plt.title('Number of padding bytes at the end of MPE datagram sections (histogram)')\n",
    "plt.xlabel('Number of padding bytes')\n",
    "plt.ylabel('Numbr of datagram sections');"
   ]
  },
  {
   "cell_type": "code",
   "execution_count": 19,
   "id": "9d1af034",
   "metadata": {},
   "outputs": [
    {
     "data": {
      "text/plain": [
       "0.014587674903245014"
      ]
     },
     "execution_count": 19,
     "metadata": {},
     "output_type": "execute_result"
    }
   ],
   "source": [
    "np.average(padding_lengths != 0)"
   ]
  },
  {
   "cell_type": "code",
   "execution_count": 20,
   "id": "1266ba45",
   "metadata": {},
   "outputs": [
    {
     "data": {
      "text/plain": [
       "{1}"
      ]
     },
     "execution_count": 20,
     "metadata": {},
     "output_type": "execute_result"
    }
   ],
   "source": [
    "section_syntax_indicator = [p[1] >> 7 for p in payloads]\n",
    "set(section_syntax_indicator)"
   ]
  },
  {
   "cell_type": "code",
   "execution_count": 21,
   "id": "60e6aa24",
   "metadata": {},
   "outputs": [
    {
     "data": {
      "text/plain": [
       "{0}"
      ]
     },
     "execution_count": 21,
     "metadata": {},
     "output_type": "execute_result"
    }
   ],
   "source": [
    "private_indicator = [(p[1] >> 6) & 1 for p in payloads]\n",
    "set(private_indicator)"
   ]
  },
  {
   "cell_type": "code",
   "execution_count": 22,
   "id": "1a930a73",
   "metadata": {},
   "outputs": [
    {
     "data": {
      "text/plain": [
       "{'01:00:5e:00:00:02'}"
      ]
     },
     "execution_count": 22,
     "metadata": {},
     "output_type": "execute_result"
    }
   ],
   "source": [
    "def get_mac_address(payload):\n",
    "    return bytes([payload[11], payload[10], payload[9], payload[8],\n",
    "                  payload[4], payload[3]])\n",
    "macs = [get_mac_address(p) for p in payloads]\n",
    "{':'.join([f'{a:02x}' for a in m]) for m in set(macs)}"
   ]
  },
  {
   "cell_type": "code",
   "execution_count": 23,
   "id": "92f83b54",
   "metadata": {},
   "outputs": [
    {
     "data": {
      "text/plain": [
       "{0}"
      ]
     },
     "execution_count": 23,
     "metadata": {},
     "output_type": "execute_result"
    }
   ],
   "source": [
    "payload_scrambling_control = [(p[5] >> 4) & 0x3 for p in payloads]\n",
    "set(payload_scrambling_control)"
   ]
  },
  {
   "cell_type": "code",
   "execution_count": 24,
   "id": "ef784c6e",
   "metadata": {},
   "outputs": [
    {
     "data": {
      "text/plain": [
       "{0}"
      ]
     },
     "execution_count": 24,
     "metadata": {},
     "output_type": "execute_result"
    }
   ],
   "source": [
    "address_scrambling_control = [(p[5] >> 2) & 0x3 for p in payloads]\n",
    "set(address_scrambling_control)"
   ]
  },
  {
   "cell_type": "code",
   "execution_count": 25,
   "id": "9e7bd61a",
   "metadata": {},
   "outputs": [
    {
     "data": {
      "text/plain": [
       "{0}"
      ]
     },
     "execution_count": 25,
     "metadata": {},
     "output_type": "execute_result"
    }
   ],
   "source": [
    "llc_snap_flag = [(p[5] >> 1) & 1 for p in payloads]\n",
    "set(llc_snap_flag)"
   ]
  },
  {
   "cell_type": "code",
   "execution_count": 26,
   "id": "a58ef920",
   "metadata": {},
   "outputs": [
    {
     "data": {
      "text/plain": [
       "{1}"
      ]
     },
     "execution_count": 26,
     "metadata": {},
     "output_type": "execute_result"
    }
   ],
   "source": [
    "current_next_indicator = [p[5] & 1 for p in payloads]\n",
    "set(current_next_indicator)"
   ]
  },
  {
   "cell_type": "code",
   "execution_count": 27,
   "id": "ff13c58a",
   "metadata": {},
   "outputs": [
    {
     "data": {
      "text/plain": [
       "{0}"
      ]
     },
     "execution_count": 27,
     "metadata": {},
     "output_type": "execute_result"
    }
   ],
   "source": [
    "section_number = [p[6] for p in payloads]\n",
    "set(section_number)"
   ]
  },
  {
   "cell_type": "code",
   "execution_count": 28,
   "id": "176af9af",
   "metadata": {},
   "outputs": [
    {
     "data": {
      "text/plain": [
       "{0}"
      ]
     },
     "execution_count": 28,
     "metadata": {},
     "output_type": "execute_result"
    }
   ],
   "source": [
    "last_section_number = [p[6] for p in payloads]\n",
    "set(last_section_number)"
   ]
  },
  {
   "cell_type": "code",
   "execution_count": 29,
   "id": "97cdbf13",
   "metadata": {},
   "outputs": [
    {
     "data": {
      "text/plain": [
       "{4}"
      ]
     },
     "execution_count": 29,
     "metadata": {},
     "output_type": "execute_result"
    }
   ],
   "source": [
    "ip_version = [p[12] >> 4 for p in payloads]\n",
    "set(ip_version)"
   ]
  },
  {
   "cell_type": "code",
   "execution_count": 30,
   "id": "4034f1c1",
   "metadata": {},
   "outputs": [],
   "source": [
    "ip_total_length = [struct.unpack('>H', p[14:16])[0] for p in payloads]\n",
    "ip_packets = [scapy.all.IP(p[12:][:length]) for p, length in zip(payloads, ip_total_length)]\n",
    "wrpcap('ip_packets.pcap', ip_packets)"
   ]
  },
  {
   "cell_type": "code",
   "execution_count": 31,
   "id": "c8e671fd",
   "metadata": {},
   "outputs": [
    {
     "data": {
      "text/plain": [
       "{0}"
      ]
     },
     "execution_count": 31,
     "metadata": {},
     "output_type": "execute_result"
    }
   ],
   "source": [
    "stuffing = [p[12+ip_length:3+length-4]\n",
    "            for p, ip_length,length in zip(payloads, ip_total_length, section_lengths)]\n",
    "{len(s) for s in stuffing}"
   ]
  },
  {
   "cell_type": "code",
   "execution_count": 32,
   "id": "1b6e4f2f",
   "metadata": {},
   "outputs": [
    {
     "data": {
      "text/plain": [
       "{('172.16.235.1', '239.0.0.2', 17)}"
      ]
     },
     "execution_count": 32,
     "metadata": {},
     "output_type": "execute_result"
    }
   ],
   "source": [
    "{(p.src, p.dst, p.proto) for p in ip_packets}"
   ]
  },
  {
   "cell_type": "code",
   "execution_count": 33,
   "id": "23ff3335",
   "metadata": {},
   "outputs": [
    {
     "data": {
      "text/plain": [
       "{(4433, 4433), (4434, 4434)}"
      ]
     },
     "execution_count": 33,
     "metadata": {},
     "output_type": "execute_result"
    }
   ],
   "source": [
    "{(p.sport, p.dport) for p in ip_packets}"
   ]
  },
  {
   "cell_type": "code",
   "execution_count": 34,
   "id": "d62672f6",
   "metadata": {},
   "outputs": [],
   "source": [
    "blockstream_api_packets = [p for p in ip_packets if p.dport == 4433]\n",
    "# check type bit\n",
    "for p in blockstream_api_packets:\n",
    "    assert p['Raw'].load[0] & 1"
   ]
  },
  {
   "cell_type": "code",
   "execution_count": 35,
   "id": "bc54895c",
   "metadata": {},
   "outputs": [],
   "source": [
    "by_channel = {}\n",
    "for p in blockstream_api_packets:\n",
    "    data = p['Raw'].load\n",
    "    channel = data[1]\n",
    "    by_channel.setdefault(channel, []).append(data)"
   ]
  },
  {
   "cell_type": "code",
   "execution_count": 36,
   "id": "d996b7a2",
   "metadata": {},
   "outputs": [
    {
     "data": {
      "text/plain": [
       "dict_keys([4, 5, 1])"
      ]
     },
     "execution_count": 36,
     "metadata": {},
     "output_type": "execute_result"
    }
   ],
   "source": [
    "by_channel.keys()"
   ]
  },
  {
   "cell_type": "code",
   "execution_count": 37,
   "id": "b3665ab2",
   "metadata": {},
   "outputs": [],
   "source": [
    "by_channel_seq = {}\n",
    "for k, v in by_channel.items():\n",
    "    by_channel_seq[k] = {}\n",
    "    for p in v:\n",
    "        seq = struct.unpack('>I', p[4:8])[0]\n",
    "        by_channel_seq[k].setdefault(seq, []).append(p)"
   ]
  },
  {
   "cell_type": "code",
   "execution_count": 38,
   "id": "e6f29986",
   "metadata": {},
   "outputs": [
    {
     "data": {
      "text/plain": [
       "dict_keys([10185])"
      ]
     },
     "execution_count": 38,
     "metadata": {},
     "output_type": "execute_result"
    }
   ],
   "source": [
    "by_channel_seq[1].keys()"
   ]
  },
  {
   "cell_type": "code",
   "execution_count": 39,
   "id": "f2bae172",
   "metadata": {},
   "outputs": [
    {
     "data": {
      "text/plain": [
       "dict_keys([15413])"
      ]
     },
     "execution_count": 39,
     "metadata": {},
     "output_type": "execute_result"
    }
   ],
   "source": [
    "by_channel_seq[4].keys()"
   ]
  },
  {
   "cell_type": "code",
   "execution_count": 40,
   "id": "eb32daa9",
   "metadata": {},
   "outputs": [
    {
     "data": {
      "text/plain": [
       "dict_keys([1735])"
      ]
     },
     "execution_count": 40,
     "metadata": {},
     "output_type": "execute_result"
    }
   ],
   "source": [
    "by_channel_seq[5].keys()"
   ]
  },
  {
   "cell_type": "code",
   "execution_count": 41,
   "id": "c0e3057b",
   "metadata": {},
   "outputs": [
    {
     "data": {
      "text/plain": [
       "[175, 176, 177, 178, 179, 180, 181, 182, 183, 184]"
      ]
     },
     "execution_count": 41,
     "metadata": {},
     "output_type": "execute_result"
    }
   ],
   "source": [
    "[struct.unpack('>H', a[2:4])[0] for a in by_channel_seq[4][15413]]"
   ]
  },
  {
   "cell_type": "code",
   "execution_count": 42,
   "id": "2deabc20",
   "metadata": {},
   "outputs": [
    {
     "data": {
      "text/plain": [
       "b'\\x81\\x04\\x00\\xaf\\x00\\x00<5\\x00\\x05\\x00\\x00\\x02\\xd8\\x00\\x00202209050700.gsp\\x00\\x00\\x00\\x00\\x00\\x00\\x00\\x00\\x00\\x00\\x00\\x00\\x00\\x00\\x00\\x00\\x00\\x00\\x00\\x00\\x00\\x00\\x00\\x00\\x00\\x00\\x00\\x00\\x00\\x00\\x00\\x00\\x00\\x00\\x00\\x00\\x00\\x00\\x00\\x00\\x00\\x00\\x00\\x00\\x00\\x00\\x00\\x00\\x00\\x00\\x00\\x00\\x00\\x00\\x00\\x00\\x00\\x00\\x00\\x00\\x00\\x00\\x00\\x00\\x00\\x00\\x00\\x00\\x00\\x00\\x00\\x00\\x00\\x00\\x00\\x00\\x00\\x00\\x00\\x00\\x00\\x00\\x00\\x00\\x00\\x00\\x00\\x00\\x00\\x00\\x00\\x00\\x00\\x00\\x00\\x00\\x00\\x00\\x00\\x00\\x00\\x00\\x00\\x00\\x00\\x00\\x00\\x00\\x00\\x00\\x00\\x00\\x00\\x00\\x00\\x00\\x00\\x00\\x00\\x00\\x00\\x00\\x00\\x00\\x00\\x00\\x00\\x00\\x00\\x00\\x00\\x00\\x00\\x00\\x00\\x00\\x00\\x00\\x00\\x00\\x00\\x00\\x00\\x00\\x00\\x00\\x00\\x00\\x00\\x00\\x00\\x00\\x00\\x00\\x00\\x00\\x00\\x00\\x00\\x00\\x00\\x00\\x00\\x00\\x00\\x00\\x00\\x00\\x00\\x00\\x00\\x00\\x00\\x00\\x00\\x00\\x00\\x00\\x00\\x00\\x00\\x00\\x00\\x00\\x00\\x00\\x00\\x00\\x00\\x00\\x00\\x00\\x00\\x00\\x00\\x00\\x00\\x00\\x00\\x00\\x00\\x00\\x00\\x00\\x00\\x00\\x00\\x00\\x00\\x00\\x00\\x00\\x00\\x00\\x00\\x00\\x00\\x00\\x00\\x00\\x00\\x00\\x00\\x00\\x00\\x00\\x00\\x00\\x00\\x00\\x00\\x00\\x00\\x00\\x00\\x00\\x00\\x00\\x00\\x00,\\xd0p\\x1dGSP\\x01\\xfd\\x01\\xb0\\x01\\x00\\xd4&\\x815\\xc5f>\\xd7\\xfb\\xab\\xc8\\xfb\\xfa\\x0c.P\\xf0X\\x8f-I\\xf5\\xd5`\\x04^%\\xb8%\\xd88\\xfa\\x0e\\x82D\\xec!;,\\x03\\xda!!\\xe7k\\xc7\\x89\\xcc[\\xc2.R\\xa9CT\\xec\\x17\\xa8V&\\x9d\\xde\\xef\\xa6\\xccJZ,[\\xac\\x80!\\x7f\\x8d\\xa1\\xf9/QN\\x89\\xc9\\x9c\\xc7\\x17}\\xbc\\x98>\\x14w\\xfb\\x0e\\xc8*\\x1b\\xc3\\x0e\\xaf\\xd1\\xd4\\xf7\\xa1H\\x00\\xfc\\xaf\\x81\\\\\\x13\\x06\\xe7\\xc0-\\xe6\\xf7&\\x16u\\xeb\\x87\\xaef\\xf8\\x82\\x98W\\xf3W\\x8fH\\xa536?!4\\xb9\\x13\\xa0\\x97\\x10$\\xdb\\x8d\\x94?\\xae\\x07c\\x9c9o>`4O-\\xf0 \\xb2go\\xb6\\xe3\\x02\\xe7\\xaf\\xdf`\\r\\xf7xx\\x96\\x17\\x1f\\'F%C\\x96F\\xba\\x1cD\\xf8d\\xdb\\xdf\\x8e\\xb0u\\\\\\x13W\\x04\\xe1fC\\x80\\x0f\\xc8!\\xcd\\xb7>\\x9e\\xe5\\x0bL\\xe3C\\xbd\\x13\\x95\\xb4\\xa7;\\xe4e|&\\xb1\\xade\\xa7B\\xf6\\xb9tW\\xa8\\xdc|\\x8d\\x18\\xd9\\xa1K\\xcdX\\xa4\\x17\\x92\\x9cb\\xe0\\x8f\\xba\\x83k\\x18g5\\xd7\\xac\\x00\\x00o\\xe2\\x8c\\n\\xb6\\xf1\\xb3r\\xc1\\xa6\\xa2F\\xaec\\xf7O\\x93\\x1e\\x83e\\xe1Z\\x08\\x9ch\\xd6\\x19\\x00\\x00\\x00\\x00\\x00\\x08e\\xc2\\x00\\x05\\xd9\\x00\\x00\\x0353\\xe2\\xdbc\\x11\\xc1\\xd4\\x17\\xd4\\x12y\\xc0g\\xd8q:\\xd8\\xa7\\xd5w\\xa0\\xd9\\x1ee\\xdf/j\\x82\\xc5\\xb8b\\x03\\x9e\\xdc\\x94\\x98|\\x8f:\\xdc(\\xda\\xb4U\\xef\\xc0\\r\\xea\\x87`\\x89\\xa1 \\xf5s\\xbd\\x0b\\x03\\xc4\\r\\x9d?\\xb1\\xe1\\x03\\xa7\\xf1\\x86D\\xe77\\xb1\\t\\xd2\\xce\\xac\\x9d\\x82\\xa1j3\\x9b\\xb4\\xf2\\x7f\\x05\\x01\\xaf\\xdchm\\x98\\xec\\x95\\xdb\\x8b>\\x03B_\\xa3\\xac{\\xf2\\x1d\\x11\\x19B\\xa4\\r\\xd4F\\x1b\\xc2\\x0c7-\\x8c\\x90V\\x1fA]\\x1ac*\\xea\\xd8\\x7f\\x9d\\x8a\\x01\\x02\\\\\\xcf\\xa6\\x84\\xc9\\xa8\\x848&db\\xfe\\xdd\\xc4\\x1fkKqZ\\xb8\\xf7\\x12\\x92\\xfb8\\x18\\x9f\\x00\\xf6v@\\xd1mRh\\xa7\\x1ax\\xd3\\xcf\\xa1L\\x89\\x99\\x06t\\xef\\xa0{\\x89\\xc0\\xa9,\\xfa\\'&\\xa9{\\x9b\\xf1\\xa5K\\x83\\x02o\\xe2\\x8c\\n\\xb6\\xf1\\xb3r\\xc1\\xa6\\xa2F\\xaec\\xf7O\\x93\\x1e\\x83e\\xe1Z\\x08\\x9ch\\xd6\\x19\\x00\\x00\\x00\\x00\\x00\\x08e\\xc2\\x00\\x05\\xd9\\x00\\x00c\\x15\\x99\\xad\\x01\\x00\\x00\"\\x00\\x00\\x00\\x00\\x00\\x00\\x03\\xe8\\x00\\x00\\x00\\x00\\x00\\x00\\x03{\\x00\\x00\\x00\\x00\\x86\\x1cF\\x80\\x8a\\x01\\x02\\xb1G\\x0e\\x98w\\xa3\\xb5\\x16\\xb1]\\xb0\\xb7Js\\xc5#\\x18\\x0c\\xfaZ\\x19\\x0e\\x9f@_c~\\xdcb2\\xcd\"E>\\xfe\\xa59\\x0b\\xb87T\\xe1B\\t\\xff\\xae*I\\xf7\\x98\\xc5B\\x1f\\xcb\\xe8\\xd7\\xa5o\\x94E\\xfe\\xe4\\xbe\\x8eo\\xe2\\x8c\\n\\xb6\\xf1\\xb3r\\xc1\\xa6\\xa2F\\xaec\\xf7O\\x93\\x1e\\x83e\\xe1Z\\x08\\x9ch\\xd6\\x19\\x00\\x00\\x00\\x00\\x00\\x08e\\xc2\\x00\\x05\\xd9\\x00\\x00c\\x13\\xdd\\xd7\\x01\\x01\\x00(\\x00\\x00\\x00\\x00\\x00\\x00\\x00\\x00\\x00\\x00#(\\x00\\x00\\x00\\xdc\\x00\\x00\\x00\\x02\\x18q\\x1a\\x00\\xfd\\x01\\xb0\\x01\\x00=l\\xd0\\n\\xd5G\\xc3\\xb1?\\\\\\x8b\\xaf\\xf3\\x88\\x7f-\\x8c.\\x1417\\xcf&eO\\xbd\\xe9\\xc4\\xbe\\xcd\\xc4\\x89yw\\xe6\\xfaZ\\x88B\\x0f\\x9f\\x8f\\x98\\x18\\xe8\\x07oK\\x8d\\xeaZR\\xd7(YUq\\xc2)\\xba\\xd5\\x98P\\x91\\x90\\xffQ\\x9f\\tD\\xb8\\x8d.l\\x07\\x1cC\\xe5\"a\\x16as:L\\x8d\\xe0\\xda\\xb9+\\xd3\\xe6\\xf2\\xdcs\\x8d\\x1fD&\\xd7\\x97Y\\x9f\\x1f\\xdd\\xca\\xd6\\xea\\xb6\\x1d\\xe8\\xa6\\x9a\\xf6\\xd5\\x89\\x9e%R\\x18\\xbfl\\xd6\\xf7\\xc89h\\x80\\xd1\\xe8\\x96GX\\xd6u\\x08\\xc9\\x81O^\\x8a\\xbe\\xdfNY\\x1e\\xc2c\\xb9\\x00o\\xd2`\\xd3\\x08\\xf5\\x17n\\t\\x9b\\\\%\\x15\\xb2^6\\xdbD\\xaf\\x9de\\x0b\\xa5\\x12\\xb0\\x1d\\x14\\xf1\\xe3\\xa25\\x9e\\x8e\\x1d\\xb9\\x12\\xb0<\\xa6\\xee /\\xd0P\\xac\\xd6\\xa7\\x11\\xf3\\xf1\\x9f\\x9dZ\\xbf\\xc4@\\xd1\\xca\\xa3\\x97\\x02;\\x0f\\x16@\\xd1\\xa0;EZ5&F/}\\xf6\\xbdK5qp\\x9b$\\x88\\x84n\\x92?/\\xcd\\xbexXE\\x91,\\xe71\\x16W?f\\x1f\\xc5)-\\x00\\x00o\\xe2\\x8c\\n\\xb6\\xf1\\xb3r\\xc1\\xa6\\xa2F\\xaec\\xf7O\\x93\\x1e\\x83e\\xe1Z\\x08\\x9ch\\xd6\\x19\\x00\\x00\\x00\\x00\\x00\\x08h\\xfe\\x00\\x07\\x80\\x00\\x00\\x02\\xf3\\x06\\x9a4*\\xe2\\x88:o)\\xe2u\\xf0o(\\xa5jn\\xa2\\xe2\\xd9oX\\x88\\xa3&dD\\xdc\\xf5B\\xb6\\x03\\xc2\\xab\\xfa\\x93\\xea\\xce\\xc0G!\\xc0\\x19dE\\x84BJ\\xab+\\xa4\\xdf\\xf3\\xac\\x9b\\xda\\xb4\\xe9\\xc9p\\x07I\\x1d\\xda\\x02 \\xe0\\xcas~\\xde\\xb3\\x86\\xe5\\xa4q7\\xc0)\\x14\\t\\xd628\\xa0\\x9an\\xf1\\x10i\\x1e\\xd2\\nAJY\\x16\\x03\\xb4\\x86l@T\\x90\\xd4\\xaa\\x80o\\x0c*\\xd1Y\\x9d\\xf5\\xed\\x83z\\xba\\x85\\x9eF\\x1eDA\\xe9\\n\\xa0\\xa4\\x03\\xb8\\x8a\\x01\\x02\\x8d\\xab\\xea\\rSh\\xfc\\xdf\\xf5`\\xdb \\x8dB\\xb2\\xc0\\xc6\\x88\\xf4.0\\x1d\\xce\\x9c`\\x18\\x92\\xf7\\xfe!\\x93=\\x1bfbC\\xaf\\xf8\\x916\\xb3'"
      ]
     },
     "execution_count": 42,
     "metadata": {},
     "output_type": "execute_result"
    }
   ],
   "source": [
    "by_channel_seq[4][15413][0]"
   ]
  },
  {
   "cell_type": "code",
   "execution_count": 43,
   "id": "2827009c",
   "metadata": {},
   "outputs": [
    {
     "data": {
      "text/plain": [
       "[3237, 3238, 3239, 3240, 3241, 3242, 3243, 3244, 3245, 3246]"
      ]
     },
     "execution_count": 43,
     "metadata": {},
     "output_type": "execute_result"
    }
   ],
   "source": [
    "[struct.unpack('>H', a[2:4])[0] for a in by_channel_seq[5][1735]]"
   ]
  },
  {
   "cell_type": "code",
   "execution_count": 44,
   "id": "6383d685",
   "metadata": {},
   "outputs": [
    {
     "data": {
      "text/plain": [
       "{10185: [b\"\\x01\\x01\\x00\\x00\\x00\\x00'\\xc9flag{holder watchmen stilgar}\"]}"
      ]
     },
     "execution_count": 44,
     "metadata": {},
     "output_type": "execute_result"
    }
   ],
   "source": [
    "by_channel_seq[1]"
   ]
  }
 ],
 "metadata": {
  "kernelspec": {
   "display_name": "Python 3",
   "language": "python",
   "name": "python3"
  },
  "language_info": {
   "codemirror_mode": {
    "name": "ipython",
    "version": 3
   },
   "file_extension": ".py",
   "mimetype": "text/x-python",
   "name": "python",
   "nbconvert_exporter": "python",
   "pygments_lexer": "ipython3",
   "version": "3.10.8"
  }
 },
 "nbformat": 4,
 "nbformat_minor": 5
}
