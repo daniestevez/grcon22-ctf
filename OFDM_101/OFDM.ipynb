{
 "cells": [
  {
   "cell_type": "markdown",
   "id": "6ac131ce",
   "metadata": {},
   "source": [
    "# OFDM\n",
    "\n",
    "0x1ACFFC1D is your friend.\n",
    "\n",
    "Flag: flag{J9DGssH8Gc0vg5ZT}"
   ]
  },
  {
   "cell_type": "code",
   "execution_count": 1,
   "id": "38248c40",
   "metadata": {},
   "outputs": [],
   "source": [
    "%matplotlib inline\n",
    "import numpy as np\n",
    "import matplotlib.pyplot as plt\n",
    "import sigmf"
   ]
  },
  {
   "cell_type": "code",
   "execution_count": 2,
   "id": "9249316a",
   "metadata": {},
   "outputs": [],
   "source": [
    "Nfft = 1024\n",
    "Nused = 3 * 1024 // 4\n",
    "skip = 1024 // 8\n",
    "cyclic_pref = 1024 // 8"
   ]
  },
  {
   "cell_type": "code",
   "execution_count": 3,
   "id": "82f5baa7",
   "metadata": {},
   "outputs": [],
   "source": [
    "with open('ofdm.txt') as f_text:\n",
    "    text = f_text.read()\n",
    "text_bytes = np.frombuffer(bytes(text, encoding='ascii'), 'uint8')\n",
    "text_syms = np.sum((1 - 2*np.unpackbits(text_bytes).reshape(-1, 2).astype('float'))\n",
    "                    /np.sqrt(2) * np.array([1, 1j]),\n",
    "                    axis=1)"
   ]
  },
  {
   "cell_type": "code",
   "execution_count": 4,
   "id": "debb40d6",
   "metadata": {},
   "outputs": [],
   "source": [
    "syncword = np.unpackbits(np.array([0x1a, 0xcf, 0xfc, 0x1d], 'uint8'))\n",
    "syncword_syms = np.sum((1 - 2*syncword.reshape(-1, 2).astype('float'))/np.sqrt(2) * np.array([1, 1j]),\n",
    "                        axis=1)\n",
    "syncword_symbol = np.tile(syncword_syms, Nused // syncword_syms.size)"
   ]
  },
  {
   "cell_type": "code",
   "execution_count": 5,
   "id": "6cef62ab",
   "metadata": {},
   "outputs": [],
   "source": [
    "symbols = np.zeros((160, Nfft), 'complex')\n",
    "symbols[::8, skip:-skip] = syncword_symbol\n",
    "data_sel = np.arange(symbols.shape[0]) % 8 != 0\n",
    "symbols[data_sel, skip:-skip] = np.tile(text_syms, 3)[:symbols.shape[0]//8*7*Nused].reshape(-1, Nused)"
   ]
  },
  {
   "cell_type": "code",
   "execution_count": 6,
   "id": "cf039875",
   "metadata": {},
   "outputs": [],
   "source": [
    "x = np.fft.ifft(np.fft.fftshift(symbols, axes=1))\n",
    "y = np.zeros((symbols.shape[0], Nfft + cyclic_pref), 'complex')\n",
    "y[:, cyclic_pref:] = x\n",
    "y[:, :cyclic_pref] = x[:, -cyclic_pref:]\n",
    "y = y.ravel()"
   ]
  },
  {
   "cell_type": "code",
   "execution_count": 7,
   "id": "0e150d14",
   "metadata": {},
   "outputs": [],
   "source": [
    "y.astype('complex64').tofile('ofdm.c64')"
   ]
  },
  {
   "cell_type": "code",
   "execution_count": 9,
   "id": "2fa57aaf",
   "metadata": {},
   "outputs": [],
   "source": [
    "filename = 'ofdm101.sigmf-data'\n",
    "# create the metadata\n",
    "meta = sigmf.SigMFFile(\n",
    "    data_file=filename, # extension is optional\n",
    "    global_info = {\n",
    "        sigmf.SigMFFile.DATATYPE_KEY: 'ci16_le',\n",
    "        sigmf.SigMFFile.SAMPLE_RATE_KEY: 1920000,\n",
    "        sigmf.SigMFFile.AUTHOR_KEY: 'Daniel Estevez <daniel@destevez.net>',\n",
    "        sigmf.SigMFFile.DESCRIPTION_KEY: 'OFDM 101 (GRCon22 CTF)',\n",
    "            sigmf.SigMFFile.VERSION_KEY: sigmf.__version__,\n",
    "        }\n",
    "    )\n",
    "\n",
    "# create a capture key at time index 0\n",
    "meta.add_capture(0, metadata={\n",
    "    sigmf.SigMFFile.FREQUENCY_KEY: 1810750000,\n",
    "    sigmf.SigMFFile.DATETIME_KEY: '2022-09-17T14:50:28.372Z',\n",
    "})\n",
    "\n",
    "# check for mistakes & write to disk\n",
    "assert meta.validate()\n",
    "meta.tofile(filename[:-4] + 'meta') # extension is optional"
   ]
  }
 ],
 "metadata": {
  "kernelspec": {
   "display_name": "Python 3 (ipykernel)",
   "language": "python",
   "name": "python3"
  },
  "language_info": {
   "codemirror_mode": {
    "name": "ipython",
    "version": 3
   },
   "file_extension": ".py",
   "mimetype": "text/x-python",
   "name": "python",
   "nbconvert_exporter": "python",
   "pygments_lexer": "ipython3",
   "version": "3.10.6"
  }
 },
 "nbformat": 4,
 "nbformat_minor": 5
}
